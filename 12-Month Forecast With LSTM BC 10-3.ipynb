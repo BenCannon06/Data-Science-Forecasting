{
 "cells": [
  {
   "cell_type": "code",
   "execution_count": 1,
   "metadata": {},
   "outputs": [
    {
     "name": "stdout",
     "output_type": "stream",
     "text": [
      "WARNING:tensorflow:From C:\\Users\\Benja\\anaconda3\\lib\\site-packages\\keras\\losses.py:2664: The name tf.losses.sparse_softmax_cross_entropy is deprecated. Please use tf.compat.v1.losses.sparse_softmax_cross_entropy instead.\n",
      "\n"
     ]
    }
   ],
   "source": [
    "import numpy as np\n",
    "import pandas as pd\n",
    "import matplotlib.pyplot as plt\n",
    "%matplotlib inline\n",
    "from statsmodels.tools.eval_measures import rmse\n",
    "from sklearn.preprocessing import MinMaxScaler\n",
    "from keras.preprocessing.sequence import TimeseriesGenerator\n",
    "from keras.models import Sequential\n",
    "from keras.layers import Dense\n",
    "from keras.layers import LSTM\n",
    "from keras.layers import Dropout\n",
    "import warnings\n",
    "warnings.filterwarnings(\"ignore\")\n",
    "\n",
    "df = pd.read_csv('C:\\\\Users\\\\Benja\\\\OneDrive\\\\Desktop\\\\Data Science Raw Data\\\\AirPassengers.csv')"
   ]
  },
  {
   "cell_type": "code",
   "execution_count": 2,
   "metadata": {},
   "outputs": [
    {
     "data": {
      "text/html": [
       "<div>\n",
       "<style scoped>\n",
       "    .dataframe tbody tr th:only-of-type {\n",
       "        vertical-align: middle;\n",
       "    }\n",
       "\n",
       "    .dataframe tbody tr th {\n",
       "        vertical-align: top;\n",
       "    }\n",
       "\n",
       "    .dataframe thead th {\n",
       "        text-align: right;\n",
       "    }\n",
       "</style>\n",
       "<table border=\"1\" class=\"dataframe\">\n",
       "  <thead>\n",
       "    <tr style=\"text-align: right;\">\n",
       "      <th></th>\n",
       "      <th>Month</th>\n",
       "      <th>#Passengers</th>\n",
       "    </tr>\n",
       "  </thead>\n",
       "  <tbody>\n",
       "    <tr>\n",
       "      <th>0</th>\n",
       "      <td>1949-01</td>\n",
       "      <td>112</td>\n",
       "    </tr>\n",
       "    <tr>\n",
       "      <th>1</th>\n",
       "      <td>1949-02</td>\n",
       "      <td>118</td>\n",
       "    </tr>\n",
       "    <tr>\n",
       "      <th>2</th>\n",
       "      <td>1949-03</td>\n",
       "      <td>132</td>\n",
       "    </tr>\n",
       "    <tr>\n",
       "      <th>3</th>\n",
       "      <td>1949-04</td>\n",
       "      <td>129</td>\n",
       "    </tr>\n",
       "    <tr>\n",
       "      <th>4</th>\n",
       "      <td>1949-05</td>\n",
       "      <td>121</td>\n",
       "    </tr>\n",
       "  </tbody>\n",
       "</table>\n",
       "</div>"
      ],
      "text/plain": [
       "     Month  #Passengers\n",
       "0  1949-01          112\n",
       "1  1949-02          118\n",
       "2  1949-03          132\n",
       "3  1949-04          129\n",
       "4  1949-05          121"
      ]
     },
     "execution_count": 2,
     "metadata": {},
     "output_type": "execute_result"
    }
   ],
   "source": [
    "df.head()"
   ]
  },
  {
   "cell_type": "code",
   "execution_count": 3,
   "metadata": {},
   "outputs": [],
   "source": [
    "df.rename(columns={'#Passengers': 'AirPassengers'}, inplace=True)"
   ]
  },
  {
   "cell_type": "code",
   "execution_count": 4,
   "metadata": {},
   "outputs": [],
   "source": [
    "df.Month = pd.to_datetime(df.Month)\n",
    "df = df.set_index(\"Month\")"
   ]
  },
  {
   "cell_type": "markdown",
   "metadata": {},
   "source": [
    "## Train Test Split"
   ]
  },
  {
   "cell_type": "code",
   "execution_count": 5,
   "metadata": {},
   "outputs": [
    {
     "data": {
      "text/plain": [
       "144"
      ]
     },
     "execution_count": 5,
     "metadata": {},
     "output_type": "execute_result"
    }
   ],
   "source": [
    "len(df)"
   ]
  },
  {
   "cell_type": "code",
   "execution_count": 6,
   "metadata": {},
   "outputs": [
    {
     "data": {
      "text/plain": [
       "313"
      ]
     },
     "execution_count": 6,
     "metadata": {},
     "output_type": "execute_result"
    }
   ],
   "source": [
    "325-12"
   ]
  },
  {
   "cell_type": "code",
   "execution_count": 7,
   "metadata": {},
   "outputs": [],
   "source": [
    "train, test = df[:-12], df[-12:]"
   ]
  },
  {
   "cell_type": "code",
   "execution_count": 8,
   "metadata": {},
   "outputs": [
    {
     "data": {
      "text/plain": [
       "12"
      ]
     },
     "execution_count": 8,
     "metadata": {},
     "output_type": "execute_result"
    }
   ],
   "source": [
    "len(test)"
   ]
  },
  {
   "cell_type": "code",
   "execution_count": 9,
   "metadata": {},
   "outputs": [
    {
     "data": {
      "text/html": [
       "<div>\n",
       "<style scoped>\n",
       "    .dataframe tbody tr th:only-of-type {\n",
       "        vertical-align: middle;\n",
       "    }\n",
       "\n",
       "    .dataframe tbody tr th {\n",
       "        vertical-align: top;\n",
       "    }\n",
       "\n",
       "    .dataframe thead th {\n",
       "        text-align: right;\n",
       "    }\n",
       "</style>\n",
       "<table border=\"1\" class=\"dataframe\">\n",
       "  <thead>\n",
       "    <tr style=\"text-align: right;\">\n",
       "      <th></th>\n",
       "      <th>AirPassengers</th>\n",
       "    </tr>\n",
       "    <tr>\n",
       "      <th>Month</th>\n",
       "      <th></th>\n",
       "    </tr>\n",
       "  </thead>\n",
       "  <tbody>\n",
       "    <tr>\n",
       "      <th>1960-01-01</th>\n",
       "      <td>417</td>\n",
       "    </tr>\n",
       "    <tr>\n",
       "      <th>1960-02-01</th>\n",
       "      <td>391</td>\n",
       "    </tr>\n",
       "    <tr>\n",
       "      <th>1960-03-01</th>\n",
       "      <td>419</td>\n",
       "    </tr>\n",
       "    <tr>\n",
       "      <th>1960-04-01</th>\n",
       "      <td>461</td>\n",
       "    </tr>\n",
       "    <tr>\n",
       "      <th>1960-05-01</th>\n",
       "      <td>472</td>\n",
       "    </tr>\n",
       "    <tr>\n",
       "      <th>1960-06-01</th>\n",
       "      <td>535</td>\n",
       "    </tr>\n",
       "    <tr>\n",
       "      <th>1960-07-01</th>\n",
       "      <td>622</td>\n",
       "    </tr>\n",
       "    <tr>\n",
       "      <th>1960-08-01</th>\n",
       "      <td>606</td>\n",
       "    </tr>\n",
       "    <tr>\n",
       "      <th>1960-09-01</th>\n",
       "      <td>508</td>\n",
       "    </tr>\n",
       "    <tr>\n",
       "      <th>1960-10-01</th>\n",
       "      <td>461</td>\n",
       "    </tr>\n",
       "    <tr>\n",
       "      <th>1960-11-01</th>\n",
       "      <td>390</td>\n",
       "    </tr>\n",
       "    <tr>\n",
       "      <th>1960-12-01</th>\n",
       "      <td>432</td>\n",
       "    </tr>\n",
       "  </tbody>\n",
       "</table>\n",
       "</div>"
      ],
      "text/plain": [
       "            AirPassengers\n",
       "Month                    \n",
       "1960-01-01            417\n",
       "1960-02-01            391\n",
       "1960-03-01            419\n",
       "1960-04-01            461\n",
       "1960-05-01            472\n",
       "1960-06-01            535\n",
       "1960-07-01            622\n",
       "1960-08-01            606\n",
       "1960-09-01            508\n",
       "1960-10-01            461\n",
       "1960-11-01            390\n",
       "1960-12-01            432"
      ]
     },
     "execution_count": 9,
     "metadata": {},
     "output_type": "execute_result"
    }
   ],
   "source": [
    "test"
   ]
  },
  {
   "cell_type": "markdown",
   "metadata": {},
   "source": [
    "## Scale Data"
   ]
  },
  {
   "cell_type": "code",
   "execution_count": 10,
   "metadata": {},
   "outputs": [],
   "source": [
    "scaler = MinMaxScaler()\n",
    "scaler.fit(train)\n",
    "train = scaler.transform(train)\n",
    "test = scaler.transform(test)"
   ]
  },
  {
   "cell_type": "code",
   "execution_count": 11,
   "metadata": {},
   "outputs": [
    {
     "data": {
      "text/plain": [
       "array([[0.68791209],\n",
       "       [0.63076923],\n",
       "       [0.69230769],\n",
       "       [0.78461538],\n",
       "       [0.80879121],\n",
       "       [0.94725275],\n",
       "       [1.13846154],\n",
       "       [1.1032967 ],\n",
       "       [0.88791209],\n",
       "       [0.78461538],\n",
       "       [0.62857143],\n",
       "       [0.72087912]])"
      ]
     },
     "execution_count": 11,
     "metadata": {},
     "output_type": "execute_result"
    }
   ],
   "source": [
    "test"
   ]
  },
  {
   "cell_type": "markdown",
   "metadata": {},
   "source": [
    "### Create the Model"
   ]
  },
  {
   "cell_type": "code",
   "execution_count": 12,
   "metadata": {},
   "outputs": [],
   "source": [
    "# Let's redefine to get 12 months back and then predict the next month out\n",
    "n_input = 12\n",
    "n_features = 1\n",
    "generator = TimeseriesGenerator(train, train, length=n_input, batch_size=6)"
   ]
  },
  {
   "cell_type": "code",
   "execution_count": 13,
   "metadata": {},
   "outputs": [
    {
     "name": "stdout",
     "output_type": "stream",
     "text": [
      "WARNING:tensorflow:From C:\\Users\\Benja\\anaconda3\\lib\\site-packages\\keras\\backend.py:873: The name tf.get_default_graph is deprecated. Please use tf.compat.v1.get_default_graph instead.\n",
      "\n",
      "WARNING:tensorflow:From C:\\Users\\Benja\\anaconda3\\lib\\site-packages\\keras\\optimizers\\__init__.py:300: The name tf.train.Optimizer is deprecated. Please use tf.compat.v1.train.Optimizer instead.\n",
      "\n"
     ]
    }
   ],
   "source": [
    "model = Sequential()\n",
    "model.add(LSTM(200, activation='relu', input_shape=(n_input, n_features)))\n",
    "model.add(Dropout(0.15))\n",
    "model.add(Dense(1))\n",
    "model.compile(optimizer='adam', loss='mse')"
   ]
  },
  {
   "cell_type": "code",
   "execution_count": 14,
   "metadata": {},
   "outputs": [
    {
     "name": "stdout",
     "output_type": "stream",
     "text": [
      "Model: \"sequential\"\n",
      "_________________________________________________________________\n",
      " Layer (type)                Output Shape              Param #   \n",
      "=================================================================\n",
      " lstm (LSTM)                 (None, 200)               161600    \n",
      "                                                                 \n",
      " dropout (Dropout)           (None, 200)               0         \n",
      "                                                                 \n",
      " dense (Dense)               (None, 1)                 201       \n",
      "                                                                 \n",
      "=================================================================\n",
      "Total params: 161,801\n",
      "Trainable params: 161,801\n",
      "Non-trainable params: 0\n",
      "_________________________________________________________________\n"
     ]
    }
   ],
   "source": [
    "model.summary()"
   ]
  },
  {
   "cell_type": "code",
   "execution_count": 15,
   "metadata": {
    "scrolled": true
   },
   "outputs": [
    {
     "name": "stdout",
     "output_type": "stream",
     "text": [
      "Epoch 1/90\n",
      "WARNING:tensorflow:From C:\\Users\\Benja\\anaconda3\\lib\\site-packages\\keras\\utils\\tf_utils.py:490: The name tf.ragged.RaggedTensorValue is deprecated. Please use tf.compat.v1.ragged.RaggedTensorValue instead.\n",
      "\n",
      "20/20 [==============================] - 1s 7ms/step - loss: 0.0801\n",
      "Epoch 2/90\n",
      "20/20 [==============================] - 0s 6ms/step - loss: 0.0167\n",
      "Epoch 3/90\n",
      "20/20 [==============================] - 0s 6ms/step - loss: 0.0154\n",
      "Epoch 4/90\n",
      "20/20 [==============================] - 0s 7ms/step - loss: 0.0106\n",
      "Epoch 5/90\n",
      "20/20 [==============================] - 0s 6ms/step - loss: 0.0094\n",
      "Epoch 6/90\n",
      "20/20 [==============================] - 0s 6ms/step - loss: 0.0094\n",
      "Epoch 7/90\n",
      "20/20 [==============================] - 0s 6ms/step - loss: 0.0094\n",
      "Epoch 8/90\n",
      "20/20 [==============================] - 0s 6ms/step - loss: 0.0081\n",
      "Epoch 9/90\n",
      "20/20 [==============================] - 0s 7ms/step - loss: 0.0100\n",
      "Epoch 10/90\n",
      "20/20 [==============================] - 0s 6ms/step - loss: 0.0090\n",
      "Epoch 11/90\n",
      "20/20 [==============================] - 0s 6ms/step - loss: 0.0100\n",
      "Epoch 12/90\n",
      "20/20 [==============================] - 0s 6ms/step - loss: 0.0138\n",
      "Epoch 13/90\n",
      "20/20 [==============================] - 0s 6ms/step - loss: 0.0081\n",
      "Epoch 14/90\n",
      "20/20 [==============================] - 0s 6ms/step - loss: 0.0074\n",
      "Epoch 15/90\n",
      "20/20 [==============================] - 0s 6ms/step - loss: 0.0093\n",
      "Epoch 16/90\n",
      "20/20 [==============================] - 0s 6ms/step - loss: 0.0062\n",
      "Epoch 17/90\n",
      "20/20 [==============================] - 0s 5ms/step - loss: 0.0058\n",
      "Epoch 18/90\n",
      "20/20 [==============================] - 0s 6ms/step - loss: 0.0062\n",
      "Epoch 19/90\n",
      "20/20 [==============================] - 0s 6ms/step - loss: 0.0050\n",
      "Epoch 20/90\n",
      "20/20 [==============================] - 0s 7ms/step - loss: 0.0047\n",
      "Epoch 21/90\n",
      "20/20 [==============================] - 0s 6ms/step - loss: 0.0039\n",
      "Epoch 22/90\n",
      "20/20 [==============================] - 0s 6ms/step - loss: 0.0132\n",
      "Epoch 23/90\n",
      "20/20 [==============================] - 0s 6ms/step - loss: 0.0241\n",
      "Epoch 24/90\n",
      "20/20 [==============================] - 0s 6ms/step - loss: 0.0106\n",
      "Epoch 25/90\n",
      "20/20 [==============================] - 0s 6ms/step - loss: 0.0094\n",
      "Epoch 26/90\n",
      "20/20 [==============================] - 0s 6ms/step - loss: 0.0065\n",
      "Epoch 27/90\n",
      "20/20 [==============================] - 0s 8ms/step - loss: 0.0052\n",
      "Epoch 28/90\n",
      "20/20 [==============================] - 0s 7ms/step - loss: 0.0060\n",
      "Epoch 29/90\n",
      "20/20 [==============================] - 0s 7ms/step - loss: 0.0058\n",
      "Epoch 30/90\n",
      "20/20 [==============================] - 0s 6ms/step - loss: 0.0038\n",
      "Epoch 31/90\n",
      "20/20 [==============================] - 0s 6ms/step - loss: 0.0051\n",
      "Epoch 32/90\n",
      "20/20 [==============================] - 0s 6ms/step - loss: 0.0034\n",
      "Epoch 33/90\n",
      "20/20 [==============================] - 0s 6ms/step - loss: 0.0032\n",
      "Epoch 34/90\n",
      "20/20 [==============================] - 0s 6ms/step - loss: 0.0027\n",
      "Epoch 35/90\n",
      "20/20 [==============================] - 0s 9ms/step - loss: 0.0073\n",
      "Epoch 36/90\n",
      "20/20 [==============================] - 0s 9ms/step - loss: 0.0076\n",
      "Epoch 37/90\n",
      "20/20 [==============================] - 0s 9ms/step - loss: 0.0052\n",
      "Epoch 38/90\n",
      "20/20 [==============================] - 0s 9ms/step - loss: 0.0030\n",
      "Epoch 39/90\n",
      "20/20 [==============================] - 0s 9ms/step - loss: 0.0035\n",
      "Epoch 40/90\n",
      "20/20 [==============================] - 0s 10ms/step - loss: 0.0051\n",
      "Epoch 41/90\n",
      "20/20 [==============================] - 0s 9ms/step - loss: 0.0033\n",
      "Epoch 42/90\n",
      "20/20 [==============================] - 0s 9ms/step - loss: 0.0037\n",
      "Epoch 43/90\n",
      "20/20 [==============================] - 0s 9ms/step - loss: 0.0043\n",
      "Epoch 44/90\n",
      "20/20 [==============================] - 0s 9ms/step - loss: 0.0030\n",
      "Epoch 45/90\n",
      "20/20 [==============================] - 0s 10ms/step - loss: 0.0037\n",
      "Epoch 46/90\n",
      "20/20 [==============================] - 0s 10ms/step - loss: 0.0074\n",
      "Epoch 47/90\n",
      "20/20 [==============================] - 0s 9ms/step - loss: 0.0042\n",
      "Epoch 48/90\n",
      "20/20 [==============================] - 0s 9ms/step - loss: 0.0032\n",
      "Epoch 49/90\n",
      "20/20 [==============================] - 0s 9ms/step - loss: 0.0035\n",
      "Epoch 50/90\n",
      "20/20 [==============================] - 0s 9ms/step - loss: 0.0028\n",
      "Epoch 51/90\n",
      "20/20 [==============================] - 0s 9ms/step - loss: 0.0055\n",
      "Epoch 52/90\n",
      "20/20 [==============================] - 0s 9ms/step - loss: 0.0041\n",
      "Epoch 53/90\n",
      "20/20 [==============================] - 0s 9ms/step - loss: 0.0022\n",
      "Epoch 54/90\n",
      "20/20 [==============================] - 0s 9ms/step - loss: 0.0025\n",
      "Epoch 55/90\n",
      "20/20 [==============================] - 0s 9ms/step - loss: 0.0022\n",
      "Epoch 56/90\n",
      "20/20 [==============================] - 0s 9ms/step - loss: 0.0020\n",
      "Epoch 57/90\n",
      "20/20 [==============================] - 0s 10ms/step - loss: 0.0031\n",
      "Epoch 58/90\n",
      "20/20 [==============================] - 0s 10ms/step - loss: 0.0049\n",
      "Epoch 59/90\n",
      "20/20 [==============================] - 0s 9ms/step - loss: 0.0051\n",
      "Epoch 60/90\n",
      "20/20 [==============================] - 0s 9ms/step - loss: 0.0039\n",
      "Epoch 61/90\n",
      "20/20 [==============================] - 0s 9ms/step - loss: 0.0025\n",
      "Epoch 62/90\n",
      "20/20 [==============================] - 0s 9ms/step - loss: 0.0025\n",
      "Epoch 63/90\n",
      "20/20 [==============================] - 0s 9ms/step - loss: 0.0032\n",
      "Epoch 64/90\n",
      "20/20 [==============================] - 0s 9ms/step - loss: 0.0019\n",
      "Epoch 65/90\n",
      "20/20 [==============================] - 0s 9ms/step - loss: 0.0023\n",
      "Epoch 66/90\n",
      "20/20 [==============================] - 0s 9ms/step - loss: 0.0020\n",
      "Epoch 67/90\n",
      "20/20 [==============================] - 0s 9ms/step - loss: 0.0023\n",
      "Epoch 68/90\n",
      "20/20 [==============================] - 0s 6ms/step - loss: 0.0035\n",
      "Epoch 69/90\n",
      "20/20 [==============================] - 0s 6ms/step - loss: 0.0025\n",
      "Epoch 70/90\n",
      "20/20 [==============================] - 0s 6ms/step - loss: 0.0019\n",
      "Epoch 71/90\n",
      "20/20 [==============================] - 0s 6ms/step - loss: 0.0020\n",
      "Epoch 72/90\n",
      "20/20 [==============================] - 0s 6ms/step - loss: 0.0018\n",
      "Epoch 73/90\n",
      "20/20 [==============================] - 0s 6ms/step - loss: 0.0030\n",
      "Epoch 74/90\n",
      "20/20 [==============================] - 0s 6ms/step - loss: 0.0031\n",
      "Epoch 75/90\n",
      "20/20 [==============================] - 0s 6ms/step - loss: 0.0027\n",
      "Epoch 76/90\n",
      "20/20 [==============================] - 0s 6ms/step - loss: 0.0045\n",
      "Epoch 77/90\n",
      "20/20 [==============================] - 0s 6ms/step - loss: 0.0042\n",
      "Epoch 78/90\n",
      "20/20 [==============================] - 0s 6ms/step - loss: 0.0029\n",
      "Epoch 79/90\n",
      "20/20 [==============================] - 0s 7ms/step - loss: 0.0026\n",
      "Epoch 80/90\n",
      "20/20 [==============================] - 0s 6ms/step - loss: 0.0021\n",
      "Epoch 81/90\n",
      "20/20 [==============================] - 0s 6ms/step - loss: 0.0018\n",
      "Epoch 82/90\n",
      "20/20 [==============================] - 0s 6ms/step - loss: 0.0021\n",
      "Epoch 83/90\n",
      "20/20 [==============================] - 0s 6ms/step - loss: 0.0022\n",
      "Epoch 84/90\n",
      "20/20 [==============================] - 0s 6ms/step - loss: 0.0020\n",
      "Epoch 85/90\n",
      "20/20 [==============================] - 0s 6ms/step - loss: 0.0018\n",
      "Epoch 86/90\n",
      "20/20 [==============================] - 0s 6ms/step - loss: 0.0027\n",
      "Epoch 87/90\n",
      "20/20 [==============================] - 0s 6ms/step - loss: 0.0022\n",
      "Epoch 88/90\n",
      "20/20 [==============================] - 0s 6ms/step - loss: 0.0019\n",
      "Epoch 89/90\n",
      "20/20 [==============================] - 0s 6ms/step - loss: 0.0037\n",
      "Epoch 90/90\n",
      "20/20 [==============================] - 0s 6ms/step - loss: 0.0030\n"
     ]
    },
    {
     "data": {
      "text/plain": [
       "<keras.callbacks.History at 0x1c70ef56790>"
      ]
     },
     "execution_count": 15,
     "metadata": {},
     "output_type": "execute_result"
    }
   ],
   "source": [
    "model.fit_generator(generator,epochs=90)"
   ]
  },
  {
   "cell_type": "code",
   "execution_count": 16,
   "metadata": {},
   "outputs": [
    {
     "data": {
      "text/plain": [
       "dict_keys(['loss'])"
      ]
     },
     "execution_count": 16,
     "metadata": {},
     "output_type": "execute_result"
    }
   ],
   "source": [
    "model.history.history.keys()"
   ]
  },
  {
   "cell_type": "code",
   "execution_count": 17,
   "metadata": {},
   "outputs": [
    {
     "data": {
      "text/plain": [
       "[<matplotlib.lines.Line2D at 0x1c7120e60d0>]"
      ]
     },
     "execution_count": 17,
     "metadata": {},
     "output_type": "execute_result"
    },
    {
     "data": {
      "image/png": "[encoded data removed]",
      "text/plain": [
       "<Figure size 640x480 with 1 Axes>"
      ]
     },
     "metadata": {},
     "output_type": "display_data"
    }
   ],
   "source": [
    "loss_per_epoch = model.history.history['loss']\n",
    "plt.plot(range(len(loss_per_epoch)),loss_per_epoch)"
   ]
  },
  {
   "cell_type": "code",
   "execution_count": 18,
   "metadata": {},
   "outputs": [
    {
     "name": "stdout",
     "output_type": "stream",
     "text": [
      "1/1 [==============================] - 0s 187ms/step\n",
      "1/1 [==============================] - 0s 24ms/step\n",
      "1/1 [==============================] - 0s 24ms/step\n",
      "1/1 [==============================] - 0s 24ms/step\n",
      "1/1 [==============================] - 0s 22ms/step\n",
      "1/1 [==============================] - 0s 22ms/step\n",
      "1/1 [==============================] - 0s 22ms/step\n",
      "1/1 [==============================] - 0s 21ms/step\n",
      "1/1 [==============================] - 0s 22ms/step\n",
      "1/1 [==============================] - 0s 23ms/step\n",
      "1/1 [==============================] - 0s 21ms/step\n",
      "1/1 [==============================] - 0s 22ms/step\n"
     ]
    }
   ],
   "source": [
    "pred_list = []\n",
    "\n",
    "batch = train[-n_input:].reshape((1, n_input, n_features))\n",
    "\n",
    "for i in range(n_input):   \n",
    "    pred_list.append(model.predict(batch)[0]) \n",
    "    batch = np.append(batch[:,1:,:],[[pred_list[i]]],axis=1)"
   ]
  },
  {
   "cell_type": "code",
   "execution_count": 19,
   "metadata": {},
   "outputs": [],
   "source": [
    "df_predict = pd.DataFrame(scaler.inverse_transform(pred_list),\n",
    "                          index=df[-n_input:].index, columns=['Prediction'])\n",
    "\n",
    "df_test = pd.concat([df,df_predict], axis=1)"
   ]
  },
  {
   "cell_type": "code",
   "execution_count": 20,
   "metadata": {},
   "outputs": [
    {
     "name": "stderr",
     "output_type": "stream",
     "text": [
      "No artists with labels found to put in legend.  Note that artists whose label start with an underscore are ignored when legend() is called with no argument.\n"
     ]
    },
    {
     "data": {
      "image/png": "[encoded data removed]",
      "text/plain": [
       "<Figure size 2000x500 with 1 Axes>"
      ]
     },
     "metadata": {},
     "output_type": "display_data"
    }
   ],
   "source": [
    "plt.figure(figsize=(20, 5))\n",
    "plt.plot(df_test.index, df_test['AirPassengers'])\n",
    "plt.plot(df_test.index, df_test['Prediction'], color='r')\n",
    "plt.legend(loc='best', fontsize='xx-large')\n",
    "plt.xticks(fontsize=18)\n",
    "plt.yticks(fontsize=16)\n",
    "plt.show()"
   ]
  },
  {
   "cell_type": "code",
   "execution_count": 21,
   "metadata": {},
   "outputs": [
    {
     "name": "stdout",
     "output_type": "stream",
     "text": [
      "rmse:  [70.84878839]\n"
     ]
    }
   ],
   "source": [
    "pred_actual_rmse = rmse(df_test.iloc[-n_input:, [0]], df_test.iloc[-n_input:, [1]])\n",
    "print(\"rmse: \", pred_actual_rmse)"
   ]
  },
  {
   "cell_type": "code",
   "execution_count": 22,
   "metadata": {},
   "outputs": [],
   "source": [
    "train = df"
   ]
  },
  {
   "cell_type": "code",
   "execution_count": 23,
   "metadata": {},
   "outputs": [],
   "source": [
    "scaler.fit(train)\n",
    "train = scaler.transform(train)"
   ]
  },
  {
   "cell_type": "code",
   "execution_count": 24,
   "metadata": {},
   "outputs": [],
   "source": [
    "n_input = 12\n",
    "n_features = 1\n",
    "generator = TimeseriesGenerator(train, train, length=n_input, batch_size=6)"
   ]
  },
  {
   "cell_type": "code",
   "execution_count": 25,
   "metadata": {},
   "outputs": [
    {
     "name": "stdout",
     "output_type": "stream",
     "text": [
      "Epoch 1/90\n",
      "22/22 [==============================] - 0s 6ms/step - loss: 0.0042\n",
      "Epoch 2/90\n",
      "22/22 [==============================] - 0s 6ms/step - loss: 0.0037\n",
      "Epoch 3/90\n",
      "22/22 [==============================] - 0s 6ms/step - loss: 0.0016\n",
      "Epoch 4/90\n",
      "22/22 [==============================] - 0s 6ms/step - loss: 0.0022\n",
      "Epoch 5/90\n",
      "22/22 [==============================] - 0s 6ms/step - loss: 0.0018\n",
      "Epoch 6/90\n",
      "22/22 [==============================] - 0s 6ms/step - loss: 0.0017\n",
      "Epoch 7/90\n",
      "22/22 [==============================] - 0s 6ms/step - loss: 0.0031\n",
      "Epoch 8/90\n",
      "22/22 [==============================] - 0s 6ms/step - loss: 0.0023\n",
      "Epoch 9/90\n",
      "22/22 [==============================] - 0s 6ms/step - loss: 0.0020\n",
      "Epoch 10/90\n",
      "22/22 [==============================] - 0s 6ms/step - loss: 0.0022\n",
      "Epoch 11/90\n",
      "22/22 [==============================] - 0s 6ms/step - loss: 0.0022\n",
      "Epoch 12/90\n",
      "22/22 [==============================] - 0s 6ms/step - loss: 0.0020\n",
      "Epoch 13/90\n",
      "22/22 [==============================] - 0s 8ms/step - loss: 0.0023\n",
      "Epoch 14/90\n",
      "22/22 [==============================] - 0s 7ms/step - loss: 0.0021\n",
      "Epoch 15/90\n",
      "22/22 [==============================] - 0s 8ms/step - loss: 0.0018\n",
      "Epoch 16/90\n",
      "22/22 [==============================] - 0s 8ms/step - loss: 0.0018\n",
      "Epoch 17/90\n",
      "22/22 [==============================] - 0s 7ms/step - loss: 0.0025\n",
      "Epoch 18/90\n",
      "22/22 [==============================] - 0s 7ms/step - loss: 0.0027\n",
      "Epoch 19/90\n",
      "22/22 [==============================] - 0s 8ms/step - loss: 0.0024\n",
      "Epoch 20/90\n",
      "22/22 [==============================] - 0s 8ms/step - loss: 0.0028\n",
      "Epoch 21/90\n",
      "22/22 [==============================] - 0s 8ms/step - loss: 0.0020\n",
      "Epoch 22/90\n",
      "22/22 [==============================] - 0s 11ms/step - loss: 0.0018\n",
      "Epoch 23/90\n",
      "22/22 [==============================] - 0s 11ms/step - loss: 0.0018\n",
      "Epoch 24/90\n",
      "22/22 [==============================] - 0s 10ms/step - loss: 0.0014\n",
      "Epoch 25/90\n",
      "22/22 [==============================] - 0s 10ms/step - loss: 0.0016\n",
      "Epoch 26/90\n",
      "22/22 [==============================] - 0s 9ms/step - loss: 0.0020\n",
      "Epoch 27/90\n",
      "22/22 [==============================] - 0s 9ms/step - loss: 0.0017\n",
      "Epoch 28/90\n",
      "22/22 [==============================] - 0s 10ms/step - loss: 0.0018\n",
      "Epoch 29/90\n",
      "22/22 [==============================] - 0s 10ms/step - loss: 0.0073\n",
      "Epoch 30/90\n",
      "22/22 [==============================] - 0s 9ms/step - loss: 0.0030\n",
      "Epoch 31/90\n",
      "22/22 [==============================] - 0s 10ms/step - loss: 0.0027\n",
      "Epoch 32/90\n",
      "22/22 [==============================] - 0s 9ms/step - loss: 0.0021\n",
      "Epoch 33/90\n",
      "22/22 [==============================] - 0s 9ms/step - loss: 0.0015\n",
      "Epoch 34/90\n",
      "22/22 [==============================] - 0s 9ms/step - loss: 0.0016\n",
      "Epoch 35/90\n",
      "22/22 [==============================] - 0s 9ms/step - loss: 0.0018\n",
      "Epoch 36/90\n",
      "22/22 [==============================] - 0s 9ms/step - loss: 0.0017\n",
      "Epoch 37/90\n",
      "22/22 [==============================] - 0s 9ms/step - loss: 0.0018\n",
      "Epoch 38/90\n",
      "22/22 [==============================] - 0s 9ms/step - loss: 0.0016\n",
      "Epoch 39/90\n",
      "22/22 [==============================] - 0s 9ms/step - loss: 0.0015\n",
      "Epoch 40/90\n",
      "22/22 [==============================] - 0s 9ms/step - loss: 0.0018\n",
      "Epoch 41/90\n",
      "22/22 [==============================] - 0s 9ms/step - loss: 0.0023\n",
      "Epoch 42/90\n",
      "22/22 [==============================] - 0s 9ms/step - loss: 0.0018\n",
      "Epoch 43/90\n",
      "22/22 [==============================] - 0s 9ms/step - loss: 0.0028\n",
      "Epoch 44/90\n",
      "22/22 [==============================] - 0s 9ms/step - loss: 0.0044\n",
      "Epoch 45/90\n",
      "22/22 [==============================] - 0s 9ms/step - loss: 0.0030\n",
      "Epoch 46/90\n",
      "22/22 [==============================] - 0s 9ms/step - loss: 0.0021\n",
      "Epoch 47/90\n",
      "22/22 [==============================] - 0s 10ms/step - loss: 0.0014\n",
      "Epoch 48/90\n",
      "22/22 [==============================] - 0s 9ms/step - loss: 0.0018\n",
      "Epoch 49/90\n",
      "22/22 [==============================] - 0s 9ms/step - loss: 0.0017\n",
      "Epoch 50/90\n",
      "22/22 [==============================] - 0s 10ms/step - loss: 0.0019\n",
      "Epoch 51/90\n",
      "22/22 [==============================] - 0s 10ms/step - loss: 0.0018\n",
      "Epoch 52/90\n",
      "22/22 [==============================] - 0s 9ms/step - loss: 0.0016\n",
      "Epoch 53/90\n",
      "22/22 [==============================] - 0s 10ms/step - loss: 0.0018\n",
      "Epoch 54/90\n",
      "22/22 [==============================] - 0s 9ms/step - loss: 0.0016\n",
      "Epoch 55/90\n",
      "22/22 [==============================] - 0s 9ms/step - loss: 0.0012\n",
      "Epoch 56/90\n",
      "22/22 [==============================] - 0s 9ms/step - loss: 0.0024\n",
      "Epoch 57/90\n",
      "22/22 [==============================] - 0s 9ms/step - loss: 0.0019\n",
      "Epoch 58/90\n",
      "22/22 [==============================] - 0s 9ms/step - loss: 0.0018\n",
      "Epoch 59/90\n",
      "22/22 [==============================] - 0s 9ms/step - loss: 0.0020\n",
      "Epoch 60/90\n",
      "22/22 [==============================] - 0s 9ms/step - loss: 0.0020\n",
      "Epoch 61/90\n",
      "22/22 [==============================] - 0s 9ms/step - loss: 0.0014\n",
      "Epoch 62/90\n",
      "22/22 [==============================] - 0s 9ms/step - loss: 0.0024\n",
      "Epoch 63/90\n",
      "22/22 [==============================] - 0s 9ms/step - loss: 0.0020\n",
      "Epoch 64/90\n",
      "22/22 [==============================] - 0s 7ms/step - loss: 0.0022\n",
      "Epoch 65/90\n",
      "22/22 [==============================] - 0s 6ms/step - loss: 0.0026\n",
      "Epoch 66/90\n",
      "22/22 [==============================] - 0s 6ms/step - loss: 0.0021\n",
      "Epoch 67/90\n",
      "22/22 [==============================] - 0s 6ms/step - loss: 0.0014\n",
      "Epoch 68/90\n",
      "22/22 [==============================] - 0s 6ms/step - loss: 0.0017\n",
      "Epoch 69/90\n",
      "22/22 [==============================] - 0s 5ms/step - loss: 0.0017\n",
      "Epoch 70/90\n",
      "22/22 [==============================] - 0s 6ms/step - loss: 0.0018\n",
      "Epoch 71/90\n",
      "22/22 [==============================] - 0s 6ms/step - loss: 0.0018\n",
      "Epoch 72/90\n",
      "22/22 [==============================] - 0s 6ms/step - loss: 0.0015\n",
      "Epoch 73/90\n",
      "22/22 [==============================] - 0s 6ms/step - loss: 0.0019\n",
      "Epoch 74/90\n",
      "22/22 [==============================] - 0s 6ms/step - loss: 0.0016\n",
      "Epoch 75/90\n",
      "22/22 [==============================] - 0s 6ms/step - loss: 0.0019\n",
      "Epoch 76/90\n",
      "22/22 [==============================] - 0s 6ms/step - loss: 0.0017\n",
      "Epoch 77/90\n",
      "22/22 [==============================] - 0s 6ms/step - loss: 0.0017\n",
      "Epoch 78/90\n",
      "22/22 [==============================] - 0s 6ms/step - loss: 0.0017\n",
      "Epoch 79/90\n",
      "22/22 [==============================] - 0s 6ms/step - loss: 0.0034\n",
      "Epoch 80/90\n",
      "22/22 [==============================] - 0s 6ms/step - loss: 0.0021\n",
      "Epoch 81/90\n",
      "22/22 [==============================] - 0s 6ms/step - loss: 0.0018\n",
      "Epoch 82/90\n",
      "22/22 [==============================] - 0s 6ms/step - loss: 0.0051\n",
      "Epoch 83/90\n",
      "22/22 [==============================] - 0s 6ms/step - loss: 0.0033\n",
      "Epoch 84/90\n",
      "22/22 [==============================] - 0s 6ms/step - loss: 0.0019\n",
      "Epoch 85/90\n",
      "22/22 [==============================] - 0s 6ms/step - loss: 0.0016\n",
      "Epoch 86/90\n",
      "22/22 [==============================] - 0s 6ms/step - loss: 0.0013\n",
      "Epoch 87/90\n",
      "22/22 [==============================] - 0s 6ms/step - loss: 0.0017\n",
      "Epoch 88/90\n",
      "22/22 [==============================] - 0s 6ms/step - loss: 0.0018\n",
      "Epoch 89/90\n",
      "22/22 [==============================] - 0s 6ms/step - loss: 0.0021\n",
      "Epoch 90/90\n",
      "22/22 [==============================] - 0s 7ms/step - loss: 0.0015\n"
     ]
    },
    {
     "data": {
      "text/plain": [
       "<keras.callbacks.History at 0x1c7143239d0>"
      ]
     },
     "execution_count": 25,
     "metadata": {},
     "output_type": "execute_result"
    }
   ],
   "source": [
    "model.fit_generator(generator,epochs=90)"
   ]
  },
  {
   "cell_type": "code",
   "execution_count": 26,
   "metadata": {},
   "outputs": [
    {
     "name": "stdout",
     "output_type": "stream",
     "text": [
      "1/1 [==============================] - 0s 34ms/step\n",
      "1/1 [==============================] - 0s 43ms/step\n",
      "1/1 [==============================] - 0s 22ms/step\n",
      "1/1 [==============================] - 0s 27ms/step\n",
      "1/1 [==============================] - 0s 26ms/step\n",
      "1/1 [==============================] - 0s 22ms/step\n",
      "1/1 [==============================] - 0s 23ms/step\n",
      "1/1 [==============================] - 0s 21ms/step\n",
      "1/1 [==============================] - 0s 23ms/step\n",
      "1/1 [==============================] - 0s 22ms/step\n",
      "1/1 [==============================] - 0s 24ms/step\n",
      "1/1 [==============================] - 0s 19ms/step\n"
     ]
    }
   ],
   "source": [
    "pred_list = []\n",
    "\n",
    "batch = train[-n_input:].reshape((1, n_input, n_features))\n",
    "\n",
    "for i in range(n_input):   \n",
    " # get prediction 1 time stamp ahead ([0] is for grabbing just the number instead of [array])    \n",
    "    pred_list.append(model.predict(batch)[0]) \n",
    "# update batch to now include prediction and drop first value    \n",
    "    batch = np.append(batch[:,1:,:],[[pred_list[i]]],axis=1)"
   ]
  },
  {
   "cell_type": "code",
   "execution_count": 27,
   "metadata": {},
   "outputs": [],
   "source": [
    "from pandas.tseries.offsets import DateOffset\n",
    "add_dates = [df.index[-1] + DateOffset(months=x) for x in range(0,13) ]\n",
    "future_dates = pd.DataFrame(index=add_dates[1:],columns=df.columns)"
   ]
  },
  {
   "cell_type": "code",
   "execution_count": 28,
   "metadata": {},
   "outputs": [],
   "source": [
    "df_predict = pd.DataFrame(scaler.inverse_transform(pred_list),\n",
    "                          index=future_dates[-n_input:].index, columns=['Prediction'])\n",
    "\n",
    "df_proj = pd.concat([df,df_predict], axis=1)"
   ]
  },
  {
   "cell_type": "code",
   "execution_count": 29,
   "metadata": {},
   "outputs": [
    {
     "data": {
      "text/plain": [
       "[array([0.61959803], dtype=float32),\n",
       " array([0.5963994], dtype=float32),\n",
       " array([0.6478706], dtype=float32),\n",
       " array([0.7185537], dtype=float32),\n",
       " array([0.8022339], dtype=float32),\n",
       " array([0.9684193], dtype=float32),\n",
       " array([1.1158689], dtype=float32),\n",
       " array([1.0527555], dtype=float32),\n",
       " array([0.86878496], dtype=float32),\n",
       " array([0.7445032], dtype=float32),\n",
       " array([0.6418885], dtype=float32),\n",
       " array([0.6602099], dtype=float32)]"
      ]
     },
     "execution_count": 29,
     "metadata": {},
     "output_type": "execute_result"
    }
   ],
   "source": [
    "pred_list"
   ]
  },
  {
   "cell_type": "code",
   "execution_count": 30,
   "metadata": {},
   "outputs": [
    {
     "data": {
      "text/plain": [
       "array([[0.68791209],\n",
       "       [0.63076923],\n",
       "       [0.69230769],\n",
       "       [0.78461538],\n",
       "       [0.80879121],\n",
       "       [0.94725275],\n",
       "       [1.13846154],\n",
       "       [1.1032967 ],\n",
       "       [0.88791209],\n",
       "       [0.78461538],\n",
       "       [0.62857143],\n",
       "       [0.72087912]])"
      ]
     },
     "execution_count": 30,
     "metadata": {},
     "output_type": "execute_result"
    }
   ],
   "source": [
    "test"
   ]
  },
  {
   "cell_type": "markdown",
   "metadata": {},
   "source": [
    "## Inverse Transformations and Compare"
   ]
  },
  {
   "cell_type": "code",
   "execution_count": 31,
   "metadata": {},
   "outputs": [],
   "source": [
    "true_predictions = scaler.inverse_transform(pred_list)"
   ]
  },
  {
   "cell_type": "code",
   "execution_count": 32,
   "metadata": {},
   "outputs": [
    {
     "data": {
      "text/plain": [
       "array([[424.95178008],\n",
       "       [412.93490291],\n",
       "       [439.59697092],\n",
       "       [476.21082795],\n",
       "       [519.55714715],\n",
       "       [605.64120436],\n",
       "       [682.02010369],\n",
       "       [649.32733607],\n",
       "       [554.0306114 ],\n",
       "       [489.65265763],\n",
       "       [436.49824262],\n",
       "       [445.98872519]])"
      ]
     },
     "execution_count": 32,
     "metadata": {},
     "output_type": "execute_result"
    }
   ],
   "source": [
    "true_predictions"
   ]
  },
  {
   "cell_type": "code",
   "execution_count": 33,
   "metadata": {},
   "outputs": [
    {
     "data": {
      "text/plain": [
       "array([[0.68791209],\n",
       "       [0.63076923],\n",
       "       [0.69230769],\n",
       "       [0.78461538],\n",
       "       [0.80879121],\n",
       "       [0.94725275],\n",
       "       [1.13846154],\n",
       "       [1.1032967 ],\n",
       "       [0.88791209],\n",
       "       [0.78461538],\n",
       "       [0.62857143],\n",
       "       [0.72087912]])"
      ]
     },
     "execution_count": 33,
     "metadata": {},
     "output_type": "execute_result"
    }
   ],
   "source": [
    "test"
   ]
  },
  {
   "cell_type": "code",
   "execution_count": 34,
   "metadata": {},
   "outputs": [
    {
     "ename": "IndexError",
     "evalue": "only integers, slices (`:`), ellipsis (`...`), numpy.newaxis (`None`) and integer or boolean arrays are valid indices",
     "output_type": "error",
     "traceback": [
      "\u001b[1;31m---------------------------------------------------------------------------\u001b[0m",
      "\u001b[1;31mIndexError\u001b[0m                                Traceback (most recent call last)",
      "Cell \u001b[1;32mIn[34], line 2\u001b[0m\n\u001b[0;32m      1\u001b[0m \u001b[38;5;66;03m# IGNORE WARNINGS\u001b[39;00m\n\u001b[1;32m----> 2\u001b[0m test[\u001b[38;5;124m'\u001b[39m\u001b[38;5;124mPredictions\u001b[39m\u001b[38;5;124m'\u001b[39m] \u001b[38;5;241m=\u001b[39m true_predictions\n",
      "\u001b[1;31mIndexError\u001b[0m: only integers, slices (`:`), ellipsis (`...`), numpy.newaxis (`None`) and integer or boolean arrays are valid indices"
     ]
    }
   ],
   "source": [
    "# IGNORE WARNINGS\n",
    "test['Predictions'] = true_predictions"
   ]
  },
  {
   "cell_type": "code",
   "execution_count": null,
   "metadata": {},
   "outputs": [],
   "source": [
    "test"
   ]
  },
  {
   "cell_type": "code",
   "execution_count": null,
   "metadata": {},
   "outputs": [],
   "source": [
    "test.plot(figsize=(12,8))"
   ]
  },
  {
   "cell_type": "code",
   "execution_count": null,
   "metadata": {},
   "outputs": [],
   "source": []
  },
  {
   "cell_type": "code",
   "execution_count": null,
   "metadata": {},
   "outputs": [],
   "source": []
  },
  {
   "cell_type": "code",
   "execution_count": null,
   "metadata": {},
   "outputs": [],
   "source": [
    "plt.figure(figsize=(20, 5))\n",
    "plt.plot(df_proj.index, df_proj['AirPassengers'])\n",
    "plt.plot(df_proj.index, df_proj['Prediction'], color='r')\n",
    "plt.legend(loc='best', fontsize='xx-large')\n",
    "plt.xticks(fontsize=18)\n",
    "plt.yticks(fontsize=16)\n",
    "plt.show()"
   ]
  },
  {
   "cell_type": "code",
   "execution_count": null,
   "metadata": {},
   "outputs": [],
   "source": [
    "## Save Predicted Results"
   ]
  },
  {
   "cell_type": "code",
   "execution_count": null,
   "metadata": {},
   "outputs": [],
   "source": [
    "#df_proj.to_csv('C:\\\\Users\\\\Benja\\\\OneDrive\\\\Desktop\\\\Data Science Raw Data\\\\12-Month Forecast With LSTM.csv', index = None, header=True)"
   ]
  }
 ],
 "metadata": {
  "kernelspec": {
   "display_name": "Python 3 (ipykernel)",
   "language": "python",
   "name": "python3"
  },
  "language_info": {
   "codemirror_mode": {
    "name": "ipython",
    "version": 3
   },
   "file_extension": ".py",
   "mimetype": "text/x-python",
   "name": "python",
   "nbconvert_exporter": "python",
   "pygments_lexer": "ipython3",
   "version": "3.9.7"
  }
 },
 "nbformat": 4,
 "nbformat_minor": 2
}
