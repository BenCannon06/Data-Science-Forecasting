{
 "cells": [
  {
   "cell_type": "code",
   "execution_count": 1,
   "metadata": {},
   "outputs": [
    {
     "name": "stdout",
     "output_type": "stream",
     "text": [
      "WARNING:tensorflow:From C:\\Users\\Benja\\anaconda3\\lib\\site-packages\\keras\\losses.py:2664: The name tf.losses.sparse_softmax_cross_entropy is deprecated. Please use tf.compat.v1.losses.sparse_softmax_cross_entropy instead.\n",
      "\n"
     ]
    }
   ],
   "source": [
    "import numpy as np\n",
    "import pandas as pd\n",
    "import matplotlib.pyplot as plt\n",
    "%matplotlib inline\n",
    "from statsmodels.tools.eval_measures import rmse\n",
    "from sklearn.preprocessing import MinMaxScaler\n",
    "from keras.preprocessing.sequence import TimeseriesGenerator\n",
    "from keras.models import Sequential\n",
    "from keras.layers import Dense\n",
    "from keras.layers import LSTM\n",
    "from keras.layers import Dropout\n",
    "import warnings\n",
    "warnings.filterwarnings(\"ignore\")\n",
    "\n",
    "df = pd.read_csv('C:\\\\Users\\\\Benja\\\\OneDrive\\\\Desktop\\\\Data Science Raw Data\\\\AirPassengers.csv')"
   ]
  },
  {
   "cell_type": "code",
   "execution_count": 2,
   "metadata": {},
   "outputs": [
    {
     "data": {
      "text/html": [
       "<div>\n",
       "<style scoped>\n",
       "    .dataframe tbody tr th:only-of-type {\n",
       "        vertical-align: middle;\n",
       "    }\n",
       "\n",
       "    .dataframe tbody tr th {\n",
       "        vertical-align: top;\n",
       "    }\n",
       "\n",
       "    .dataframe thead th {\n",
       "        text-align: right;\n",
       "    }\n",
       "</style>\n",
       "<table border=\"1\" class=\"dataframe\">\n",
       "  <thead>\n",
       "    <tr style=\"text-align: right;\">\n",
       "      <th></th>\n",
       "      <th>Month</th>\n",
       "      <th>#Passengers</th>\n",
       "    </tr>\n",
       "  </thead>\n",
       "  <tbody>\n",
       "    <tr>\n",
       "      <th>0</th>\n",
       "      <td>1949-01</td>\n",
       "      <td>112</td>\n",
       "    </tr>\n",
       "    <tr>\n",
       "      <th>1</th>\n",
       "      <td>1949-02</td>\n",
       "      <td>118</td>\n",
       "    </tr>\n",
       "    <tr>\n",
       "      <th>2</th>\n",
       "      <td>1949-03</td>\n",
       "      <td>132</td>\n",
       "    </tr>\n",
       "    <tr>\n",
       "      <th>3</th>\n",
       "      <td>1949-04</td>\n",
       "      <td>129</td>\n",
       "    </tr>\n",
       "    <tr>\n",
       "      <th>4</th>\n",
       "      <td>1949-05</td>\n",
       "      <td>121</td>\n",
       "    </tr>\n",
       "  </tbody>\n",
       "</table>\n",
       "</div>"
      ],
      "text/plain": [
       "     Month  #Passengers\n",
       "0  1949-01          112\n",
       "1  1949-02          118\n",
       "2  1949-03          132\n",
       "3  1949-04          129\n",
       "4  1949-05          121"
      ]
     },
     "execution_count": 2,
     "metadata": {},
     "output_type": "execute_result"
    }
   ],
   "source": [
    "df.head()"
   ]
  },
  {
   "cell_type": "code",
   "execution_count": 3,
   "metadata": {},
   "outputs": [],
   "source": [
    "df.rename(columns={'#Passengers': 'AirPassengers'}, inplace=True)"
   ]
  },
  {
   "cell_type": "code",
   "execution_count": 4,
   "metadata": {},
   "outputs": [],
   "source": [
    "df.Month = pd.to_datetime(df.Month)\n",
    "df = df.set_index(\"Month\")"
   ]
  },
  {
   "cell_type": "markdown",
   "metadata": {},
   "source": [
    "## Train Test Split"
   ]
  },
  {
   "cell_type": "code",
   "execution_count": 5,
   "metadata": {},
   "outputs": [
    {
     "data": {
      "text/plain": [
       "144"
      ]
     },
     "execution_count": 5,
     "metadata": {},
     "output_type": "execute_result"
    }
   ],
   "source": [
    "len(df)"
   ]
  },
  {
   "cell_type": "code",
   "execution_count": 6,
   "metadata": {},
   "outputs": [
    {
     "data": {
      "text/plain": [
       "132"
      ]
     },
     "execution_count": 6,
     "metadata": {},
     "output_type": "execute_result"
    }
   ],
   "source": [
    "144-12"
   ]
  },
  {
   "cell_type": "code",
   "execution_count": 7,
   "metadata": {},
   "outputs": [],
   "source": [
    "train, test = df[:-12], df[-12:]"
   ]
  },
  {
   "cell_type": "code",
   "execution_count": 8,
   "metadata": {},
   "outputs": [
    {
     "data": {
      "text/plain": [
       "12"
      ]
     },
     "execution_count": 8,
     "metadata": {},
     "output_type": "execute_result"
    }
   ],
   "source": [
    "len(test)"
   ]
  },
  {
   "cell_type": "code",
   "execution_count": 9,
   "metadata": {},
   "outputs": [
    {
     "data": {
      "text/html": [
       "<div>\n",
       "<style scoped>\n",
       "    .dataframe tbody tr th:only-of-type {\n",
       "        vertical-align: middle;\n",
       "    }\n",
       "\n",
       "    .dataframe tbody tr th {\n",
       "        vertical-align: top;\n",
       "    }\n",
       "\n",
       "    .dataframe thead th {\n",
       "        text-align: right;\n",
       "    }\n",
       "</style>\n",
       "<table border=\"1\" class=\"dataframe\">\n",
       "  <thead>\n",
       "    <tr style=\"text-align: right;\">\n",
       "      <th></th>\n",
       "      <th>AirPassengers</th>\n",
       "    </tr>\n",
       "    <tr>\n",
       "      <th>Month</th>\n",
       "      <th></th>\n",
       "    </tr>\n",
       "  </thead>\n",
       "  <tbody>\n",
       "    <tr>\n",
       "      <th>1960-01-01</th>\n",
       "      <td>417</td>\n",
       "    </tr>\n",
       "    <tr>\n",
       "      <th>1960-02-01</th>\n",
       "      <td>391</td>\n",
       "    </tr>\n",
       "    <tr>\n",
       "      <th>1960-03-01</th>\n",
       "      <td>419</td>\n",
       "    </tr>\n",
       "    <tr>\n",
       "      <th>1960-04-01</th>\n",
       "      <td>461</td>\n",
       "    </tr>\n",
       "    <tr>\n",
       "      <th>1960-05-01</th>\n",
       "      <td>472</td>\n",
       "    </tr>\n",
       "    <tr>\n",
       "      <th>1960-06-01</th>\n",
       "      <td>535</td>\n",
       "    </tr>\n",
       "    <tr>\n",
       "      <th>1960-07-01</th>\n",
       "      <td>622</td>\n",
       "    </tr>\n",
       "    <tr>\n",
       "      <th>1960-08-01</th>\n",
       "      <td>606</td>\n",
       "    </tr>\n",
       "    <tr>\n",
       "      <th>1960-09-01</th>\n",
       "      <td>508</td>\n",
       "    </tr>\n",
       "    <tr>\n",
       "      <th>1960-10-01</th>\n",
       "      <td>461</td>\n",
       "    </tr>\n",
       "    <tr>\n",
       "      <th>1960-11-01</th>\n",
       "      <td>390</td>\n",
       "    </tr>\n",
       "    <tr>\n",
       "      <th>1960-12-01</th>\n",
       "      <td>432</td>\n",
       "    </tr>\n",
       "  </tbody>\n",
       "</table>\n",
       "</div>"
      ],
      "text/plain": [
       "            AirPassengers\n",
       "Month                    \n",
       "1960-01-01            417\n",
       "1960-02-01            391\n",
       "1960-03-01            419\n",
       "1960-04-01            461\n",
       "1960-05-01            472\n",
       "1960-06-01            535\n",
       "1960-07-01            622\n",
       "1960-08-01            606\n",
       "1960-09-01            508\n",
       "1960-10-01            461\n",
       "1960-11-01            390\n",
       "1960-12-01            432"
      ]
     },
     "execution_count": 9,
     "metadata": {},
     "output_type": "execute_result"
    }
   ],
   "source": [
    "test"
   ]
  },
  {
   "cell_type": "markdown",
   "metadata": {},
   "source": [
    "## Scale Data"
   ]
  },
  {
   "cell_type": "code",
   "execution_count": 10,
   "metadata": {},
   "outputs": [],
   "source": [
    "scaler = MinMaxScaler()\n",
    "scaler.fit(train)\n",
    "scaled_train = scaler.transform(train)\n",
    "scaled_test = scaler.transform(test)"
   ]
  },
  {
   "cell_type": "code",
   "execution_count": 11,
   "metadata": {},
   "outputs": [
    {
     "data": {
      "text/plain": [
       "array([[0.01758242],\n",
       "       [0.03076923],\n",
       "       [0.06153846],\n",
       "       [0.05494505],\n",
       "       [0.03736264],\n",
       "       [0.06813187],\n",
       "       [0.0967033 ],\n",
       "       [0.0967033 ],\n",
       "       [0.07032967],\n",
       "       [0.03296703],\n",
       "       [0.        ],\n",
       "       [0.03076923],\n",
       "       [0.02417582],\n",
       "       [0.04835165],\n",
       "       [0.08131868],\n",
       "       [0.06813187],\n",
       "       [0.04615385],\n",
       "       [0.0989011 ],\n",
       "       [0.14505495],\n",
       "       [0.14505495],\n",
       "       [0.11868132],\n",
       "       [0.06373626],\n",
       "       [0.02197802],\n",
       "       [0.07912088],\n",
       "       [0.09010989],\n",
       "       [0.1010989 ],\n",
       "       [0.16263736],\n",
       "       [0.12967033],\n",
       "       [0.14945055],\n",
       "       [0.16263736],\n",
       "       [0.20879121],\n",
       "       [0.20879121],\n",
       "       [0.17582418],\n",
       "       [0.12747253],\n",
       "       [0.09230769],\n",
       "       [0.13626374],\n",
       "       [0.14725275],\n",
       "       [0.16703297],\n",
       "       [0.1956044 ],\n",
       "       [0.16923077],\n",
       "       [0.17362637],\n",
       "       [0.25054945],\n",
       "       [0.27692308],\n",
       "       [0.3032967 ],\n",
       "       [0.23076923],\n",
       "       [0.19120879],\n",
       "       [0.14945055],\n",
       "       [0.1978022 ],\n",
       "       [0.2021978 ],\n",
       "       [0.2021978 ],\n",
       "       [0.29010989],\n",
       "       [0.28791209],\n",
       "       [0.27472527],\n",
       "       [0.30549451],\n",
       "       [0.35164835],\n",
       "       [0.36923077],\n",
       "       [0.29230769],\n",
       "       [0.23516484],\n",
       "       [0.16703297],\n",
       "       [0.21318681],\n",
       "       [0.21978022],\n",
       "       [0.18461538],\n",
       "       [0.28791209],\n",
       "       [0.27032967],\n",
       "       [0.28571429],\n",
       "       [0.35164835],\n",
       "       [0.43516484],\n",
       "       [0.41538462],\n",
       "       [0.34065934],\n",
       "       [0.27472527],\n",
       "       [0.21758242],\n",
       "       [0.27472527],\n",
       "       [0.3032967 ],\n",
       "       [0.28351648],\n",
       "       [0.35824176],\n",
       "       [0.36263736],\n",
       "       [0.36483516],\n",
       "       [0.46373626],\n",
       "       [0.57142857],\n",
       "       [0.53406593],\n",
       "       [0.45714286],\n",
       "       [0.37362637],\n",
       "       [0.29230769],\n",
       "       [0.38241758],\n",
       "       [0.3956044 ],\n",
       "       [0.38021978],\n",
       "       [0.46813187],\n",
       "       [0.45934066],\n",
       "       [0.47032967],\n",
       "       [0.59340659],\n",
       "       [0.67912088],\n",
       "       [0.66153846],\n",
       "       [0.55164835],\n",
       "       [0.44395604],\n",
       "       [0.36703297],\n",
       "       [0.44395604],\n",
       "       [0.46373626],\n",
       "       [0.43296703],\n",
       "       [0.55384615],\n",
       "       [0.53626374],\n",
       "       [0.55164835],\n",
       "       [0.6989011 ],\n",
       "       [0.79340659],\n",
       "       [0.7978022 ],\n",
       "       [0.65934066],\n",
       "       [0.53406593],\n",
       "       [0.44175824],\n",
       "       [0.50989011],\n",
       "       [0.51868132],\n",
       "       [0.47032967],\n",
       "       [0.56703297],\n",
       "       [0.53626374],\n",
       "       [0.56923077],\n",
       "       [0.72747253],\n",
       "       [0.85054945],\n",
       "       [0.88131868],\n",
       "       [0.65934066],\n",
       "       [0.56043956],\n",
       "       [0.45274725],\n",
       "       [0.51208791],\n",
       "       [0.56263736],\n",
       "       [0.52307692],\n",
       "       [0.66373626],\n",
       "       [0.64175824],\n",
       "       [0.69450549],\n",
       "       [0.80879121],\n",
       "       [0.97582418],\n",
       "       [1.        ],\n",
       "       [0.78901099],\n",
       "       [0.66593407],\n",
       "       [0.56703297],\n",
       "       [0.66153846]])"
      ]
     },
     "execution_count": 11,
     "metadata": {},
     "output_type": "execute_result"
    }
   ],
   "source": [
    "scaled_train"
   ]
  },
  {
   "cell_type": "code",
   "execution_count": 12,
   "metadata": {},
   "outputs": [
    {
     "data": {
      "text/plain": [
       "132"
      ]
     },
     "execution_count": 12,
     "metadata": {},
     "output_type": "execute_result"
    }
   ],
   "source": [
    "len(scaled_train)"
   ]
  },
  {
   "cell_type": "markdown",
   "metadata": {},
   "source": [
    "### Create the Model"
   ]
  },
  {
   "cell_type": "code",
   "execution_count": 13,
   "metadata": {},
   "outputs": [],
   "source": [
    "# Let's redefine to get 12 months back and then predict the next month out\n",
    "n_input = 12\n",
    "n_features = 1\n",
    "generator = TimeseriesGenerator(scaled_train, scaled_train, length=n_input, batch_size=1)"
   ]
  },
  {
   "cell_type": "code",
   "execution_count": 14,
   "metadata": {},
   "outputs": [
    {
     "name": "stdout",
     "output_type": "stream",
     "text": [
      "WARNING:tensorflow:From C:\\Users\\Benja\\anaconda3\\lib\\site-packages\\keras\\backend.py:873: The name tf.get_default_graph is deprecated. Please use tf.compat.v1.get_default_graph instead.\n",
      "\n",
      "WARNING:tensorflow:From C:\\Users\\Benja\\anaconda3\\lib\\site-packages\\keras\\optimizers\\__init__.py:300: The name tf.train.Optimizer is deprecated. Please use tf.compat.v1.train.Optimizer instead.\n",
      "\n"
     ]
    }
   ],
   "source": [
    "model = Sequential()\n",
    "model.add(LSTM(200, activation='relu',return_sequences = True, input_shape=(n_input, n_features)))\n",
    "model.add(LSTM(200, activation='relu',return_sequences = True, input_shape=(n_input, n_features)))\n",
    "model.add(Dropout(0.15))\n",
    "model.add(LSTM(200, activation='relu',return_sequences = False, input_shape=(n_input, n_features)))\n",
    "model.add(Dense(1))\n",
    "model.compile(optimizer='adam', loss='mse',metrics = [\"accuracy\"])"
   ]
  },
  {
   "cell_type": "code",
   "execution_count": 15,
   "metadata": {},
   "outputs": [
    {
     "name": "stdout",
     "output_type": "stream",
     "text": [
      "Model: \"sequential\"\n",
      "_________________________________________________________________\n",
      " Layer (type)                Output Shape              Param #   \n",
      "=================================================================\n",
      " lstm (LSTM)                 (None, 12, 200)           161600    \n",
      "                                                                 \n",
      " lstm_1 (LSTM)               (None, 12, 200)           320800    \n",
      "                                                                 \n",
      " dropout (Dropout)           (None, 12, 200)           0         \n",
      "                                                                 \n",
      " lstm_2 (LSTM)               (None, 200)               320800    \n",
      "                                                                 \n",
      " dense (Dense)               (None, 1)                 201       \n",
      "                                                                 \n",
      "=================================================================\n",
      "Total params: 803,401\n",
      "Trainable params: 803,401\n",
      "Non-trainable params: 0\n",
      "_________________________________________________________________\n"
     ]
    }
   ],
   "source": [
    "model.summary()"
   ]
  },
  {
   "cell_type": "code",
   "execution_count": 16,
   "metadata": {
    "scrolled": true
   },
   "outputs": [
    {
     "name": "stdout",
     "output_type": "stream",
     "text": [
      "Epoch 1/90\n",
      "WARNING:tensorflow:From C:\\Users\\Benja\\anaconda3\\lib\\site-packages\\keras\\utils\\tf_utils.py:490: The name tf.ragged.RaggedTensorValue is deprecated. Please use tf.compat.v1.ragged.RaggedTensorValue instead.\n",
      "\n",
      "WARNING:tensorflow:From C:\\Users\\Benja\\anaconda3\\lib\\site-packages\\keras\\engine\\base_layer_utils.py:380: The name tf.executing_eagerly_outside_functions is deprecated. Please use tf.compat.v1.executing_eagerly_outside_functions instead.\n",
      "\n",
      "120/120 [==============================] - 6s 19ms/step - loss: 0.0335 - accuracy: 0.0083\n",
      "Epoch 2/90\n",
      "120/120 [==============================] - 2s 19ms/step - loss: 0.0168 - accuracy: 0.0083\n",
      "Epoch 3/90\n",
      "120/120 [==============================] - 2s 19ms/step - loss: 0.0164 - accuracy: 0.0083\n",
      "Epoch 4/90\n",
      "120/120 [==============================] - 2s 18ms/step - loss: 0.0144 - accuracy: 0.0083\n",
      "Epoch 5/90\n",
      "120/120 [==============================] - 2s 20ms/step - loss: 0.0141 - accuracy: 0.0083\n",
      "Epoch 6/90\n",
      "120/120 [==============================] - 2s 14ms/step - loss: 0.0105 - accuracy: 0.0083\n",
      "Epoch 7/90\n",
      "120/120 [==============================] - 2s 18ms/step - loss: 0.0125 - accuracy: 0.0083\n",
      "Epoch 8/90\n",
      "120/120 [==============================] - 2s 19ms/step - loss: 0.0094 - accuracy: 0.0083\n",
      "Epoch 9/90\n",
      "120/120 [==============================] - 2s 20ms/step - loss: 0.0087 - accuracy: 0.0083\n",
      "Epoch 10/90\n",
      "120/120 [==============================] - 2s 18ms/step - loss: 0.0077 - accuracy: 0.0083\n",
      "Epoch 11/90\n",
      "120/120 [==============================] - 2s 17ms/step - loss: 0.0075 - accuracy: 0.0083\n",
      "Epoch 12/90\n",
      "120/120 [==============================] - 2s 18ms/step - loss: 0.0070 - accuracy: 0.0083\n",
      "Epoch 13/90\n",
      "120/120 [==============================] - 3s 21ms/step - loss: 0.0072 - accuracy: 0.0083\n",
      "Epoch 14/90\n",
      "120/120 [==============================] - 2s 17ms/step - loss: 0.0086 - accuracy: 0.0083\n",
      "Epoch 15/90\n",
      "120/120 [==============================] - 2s 16ms/step - loss: 0.0043 - accuracy: 0.0083\n",
      "Epoch 16/90\n",
      "120/120 [==============================] - 2s 17ms/step - loss: 0.0049 - accuracy: 0.0083\n",
      "Epoch 17/90\n",
      "120/120 [==============================] - 2s 18ms/step - loss: 0.0058 - accuracy: 0.0083\n",
      "Epoch 18/90\n",
      "120/120 [==============================] - 2s 15ms/step - loss: 0.0041 - accuracy: 0.0083\n",
      "Epoch 19/90\n",
      "120/120 [==============================] - 2s 15ms/step - loss: 0.0037 - accuracy: 0.0083\n",
      "Epoch 20/90\n",
      "120/120 [==============================] - 2s 15ms/step - loss: 0.0032 - accuracy: 0.0083\n",
      "Epoch 21/90\n",
      "120/120 [==============================] - 2s 16ms/step - loss: 0.0029 - accuracy: 0.0083\n",
      "Epoch 22/90\n",
      "120/120 [==============================] - 2s 16ms/step - loss: 0.0044 - accuracy: 0.0083\n",
      "Epoch 23/90\n",
      "120/120 [==============================] - 2s 18ms/step - loss: 0.0035 - accuracy: 0.0083\n",
      "Epoch 24/90\n",
      "120/120 [==============================] - 2s 18ms/step - loss: 0.0031 - accuracy: 0.0083\n",
      "Epoch 25/90\n",
      "120/120 [==============================] - 2s 19ms/step - loss: 0.0051 - accuracy: 0.0083\n",
      "Epoch 26/90\n",
      "120/120 [==============================] - 2s 17ms/step - loss: 0.0035 - accuracy: 0.0083\n",
      "Epoch 27/90\n",
      "120/120 [==============================] - 2s 16ms/step - loss: 0.0030 - accuracy: 0.0083\n",
      "Epoch 28/90\n",
      "120/120 [==============================] - 2s 17ms/step - loss: 0.0040 - accuracy: 0.0083\n",
      "Epoch 29/90\n",
      "120/120 [==============================] - 2s 16ms/step - loss: 0.0036 - accuracy: 0.0083\n",
      "Epoch 30/90\n",
      "120/120 [==============================] - 2s 15ms/step - loss: 0.0039 - accuracy: 0.0083\n",
      "Epoch 31/90\n",
      "120/120 [==============================] - 2s 16ms/step - loss: 0.0029 - accuracy: 0.0083\n",
      "Epoch 32/90\n",
      "120/120 [==============================] - 2s 18ms/step - loss: 0.0033 - accuracy: 0.0083\n",
      "Epoch 33/90\n",
      "120/120 [==============================] - 2s 17ms/step - loss: 0.0029 - accuracy: 0.0083\n",
      "Epoch 34/90\n",
      "120/120 [==============================] - 2s 16ms/step - loss: 0.0031 - accuracy: 0.0083\n",
      "Epoch 35/90\n",
      "120/120 [==============================] - 2s 16ms/step - loss: 0.0030 - accuracy: 0.0083\n",
      "Epoch 36/90\n",
      "120/120 [==============================] - 2s 16ms/step - loss: 0.0023 - accuracy: 0.0083\n",
      "Epoch 37/90\n",
      "120/120 [==============================] - 2s 16ms/step - loss: 0.0029 - accuracy: 0.0083\n",
      "Epoch 38/90\n",
      "120/120 [==============================] - 2s 16ms/step - loss: 0.0046 - accuracy: 0.0083\n",
      "Epoch 39/90\n",
      "120/120 [==============================] - 2s 16ms/step - loss: 0.0021 - accuracy: 0.0083\n",
      "Epoch 40/90\n",
      "120/120 [==============================] - 2s 17ms/step - loss: 0.0027 - accuracy: 0.0083\n",
      "Epoch 41/90\n",
      "120/120 [==============================] - 2s 17ms/step - loss: 0.0020 - accuracy: 0.0083\n",
      "Epoch 42/90\n",
      "120/120 [==============================] - 2s 16ms/step - loss: 0.0017 - accuracy: 0.0083\n",
      "Epoch 43/90\n",
      "120/120 [==============================] - 2s 17ms/step - loss: 0.0022 - accuracy: 0.0083\n",
      "Epoch 44/90\n",
      "120/120 [==============================] - 2s 16ms/step - loss: 0.0022 - accuracy: 0.0083\n",
      "Epoch 45/90\n",
      "120/120 [==============================] - 2s 18ms/step - loss: 0.0021 - accuracy: 0.0083\n",
      "Epoch 46/90\n",
      "120/120 [==============================] - 2s 17ms/step - loss: 0.0030 - accuracy: 0.0083\n",
      "Epoch 47/90\n",
      "120/120 [==============================] - 2s 17ms/step - loss: 0.0023 - accuracy: 0.0083\n",
      "Epoch 48/90\n",
      "120/120 [==============================] - 2s 20ms/step - loss: 0.0027 - accuracy: 0.0083\n",
      "Epoch 49/90\n",
      "120/120 [==============================] - 2s 19ms/step - loss: 0.0020 - accuracy: 0.0083\n",
      "Epoch 50/90\n",
      "120/120 [==============================] - 2s 17ms/step - loss: 0.0020 - accuracy: 0.0083\n",
      "Epoch 51/90\n",
      "120/120 [==============================] - 2s 16ms/step - loss: 0.0023 - accuracy: 0.0083\n",
      "Epoch 52/90\n",
      "120/120 [==============================] - 2s 16ms/step - loss: 0.0025 - accuracy: 0.0083\n",
      "Epoch 53/90\n",
      "120/120 [==============================] - 2s 16ms/step - loss: 0.0023 - accuracy: 0.0083\n",
      "Epoch 54/90\n",
      "120/120 [==============================] - 2s 15ms/step - loss: 0.0024 - accuracy: 0.0083\n",
      "Epoch 55/90\n",
      "120/120 [==============================] - 2s 18ms/step - loss: 0.0022 - accuracy: 0.0083\n",
      "Epoch 56/90\n",
      "120/120 [==============================] - 2s 17ms/step - loss: 0.0024 - accuracy: 0.0083\n",
      "Epoch 57/90\n",
      "120/120 [==============================] - 2s 16ms/step - loss: 0.0021 - accuracy: 0.0083\n",
      "Epoch 58/90\n",
      "120/120 [==============================] - 2s 17ms/step - loss: 0.0030 - accuracy: 0.0083\n",
      "Epoch 59/90\n",
      "120/120 [==============================] - 2s 16ms/step - loss: 0.0020 - accuracy: 0.0083\n",
      "Epoch 60/90\n",
      "120/120 [==============================] - 2s 17ms/step - loss: 0.0025 - accuracy: 0.0083\n",
      "Epoch 61/90\n",
      "120/120 [==============================] - 2s 18ms/step - loss: 0.0020 - accuracy: 0.0083\n",
      "Epoch 62/90\n",
      "120/120 [==============================] - 2s 17ms/step - loss: 0.0039 - accuracy: 0.0083\n",
      "Epoch 63/90\n",
      "120/120 [==============================] - 2s 18ms/step - loss: 0.0033 - accuracy: 0.0083\n",
      "Epoch 64/90\n",
      "120/120 [==============================] - 2s 18ms/step - loss: 0.0016 - accuracy: 0.0083\n",
      "Epoch 65/90\n",
      "120/120 [==============================] - 2s 16ms/step - loss: 0.0026 - accuracy: 0.0083\n",
      "Epoch 66/90\n",
      "120/120 [==============================] - 2s 16ms/step - loss: 0.0019 - accuracy: 0.0083\n",
      "Epoch 67/90\n",
      "120/120 [==============================] - 2s 16ms/step - loss: 0.0019 - accuracy: 0.0083\n",
      "Epoch 68/90\n",
      "120/120 [==============================] - 2s 16ms/step - loss: 0.0019 - accuracy: 0.0083\n",
      "Epoch 69/90\n",
      "120/120 [==============================] - 2s 17ms/step - loss: 0.0025 - accuracy: 0.0083\n",
      "Epoch 70/90\n",
      "120/120 [==============================] - 2s 16ms/step - loss: 0.0021 - accuracy: 0.0083\n",
      "Epoch 71/90\n",
      "120/120 [==============================] - 2s 18ms/step - loss: 0.0016 - accuracy: 0.0083\n",
      "Epoch 72/90\n",
      "120/120 [==============================] - 2s 19ms/step - loss: 0.0018 - accuracy: 0.0083\n",
      "Epoch 73/90\n",
      "120/120 [==============================] - 2s 18ms/step - loss: 0.0017 - accuracy: 0.0083\n",
      "Epoch 74/90\n",
      "120/120 [==============================] - 2s 18ms/step - loss: 0.0017 - accuracy: 0.0083\n",
      "Epoch 75/90\n",
      "120/120 [==============================] - 2s 14ms/step - loss: 0.0017 - accuracy: 0.0083\n",
      "Epoch 76/90\n",
      "120/120 [==============================] - 2s 15ms/step - loss: 0.0020 - accuracy: 0.0083\n",
      "Epoch 77/90\n",
      "120/120 [==============================] - 2s 16ms/step - loss: 0.0018 - accuracy: 0.0083\n",
      "Epoch 78/90\n",
      "120/120 [==============================] - 2s 18ms/step - loss: 0.0025 - accuracy: 0.0083\n",
      "Epoch 79/90\n",
      "120/120 [==============================] - 2s 19ms/step - loss: 0.0018 - accuracy: 0.0083\n",
      "Epoch 80/90\n",
      "120/120 [==============================] - 2s 18ms/step - loss: 0.0018 - accuracy: 0.0083\n",
      "Epoch 81/90\n",
      "120/120 [==============================] - 2s 17ms/step - loss: 0.0015 - accuracy: 0.0083\n",
      "Epoch 82/90\n",
      "120/120 [==============================] - 2s 16ms/step - loss: 0.0018 - accuracy: 0.0083\n",
      "Epoch 83/90\n",
      "120/120 [==============================] - 2s 16ms/step - loss: 0.0017 - accuracy: 0.0083\n",
      "Epoch 84/90\n",
      "120/120 [==============================] - 2s 19ms/step - loss: 0.0025 - accuracy: 0.0083\n",
      "Epoch 85/90\n",
      "120/120 [==============================] - 2s 18ms/step - loss: 0.0021 - accuracy: 0.0083\n",
      "Epoch 86/90\n",
      "120/120 [==============================] - 2s 18ms/step - loss: 0.0018 - accuracy: 0.0083\n",
      "Epoch 87/90\n",
      "120/120 [==============================] - 2s 17ms/step - loss: 0.0019 - accuracy: 0.0083\n",
      "Epoch 88/90\n",
      "120/120 [==============================] - 2s 16ms/step - loss: 0.0018 - accuracy: 0.0083\n",
      "Epoch 89/90\n",
      "120/120 [==============================] - 2s 15ms/step - loss: 0.0027 - accuracy: 0.0083\n",
      "Epoch 90/90\n",
      "120/120 [==============================] - 2s 16ms/step - loss: 0.0014 - accuracy: 0.0083\n"
     ]
    },
    {
     "data": {
      "text/plain": [
       "<keras.callbacks.History at 0x26faee41fd0>"
      ]
     },
     "execution_count": 16,
     "metadata": {},
     "output_type": "execute_result"
    }
   ],
   "source": [
    "model.fit_generator(generator,epochs=90)"
   ]
  },
  {
   "cell_type": "code",
   "execution_count": 17,
   "metadata": {},
   "outputs": [
    {
     "data": {
      "text/plain": [
       "dict_keys(['loss', 'accuracy'])"
      ]
     },
     "execution_count": 17,
     "metadata": {},
     "output_type": "execute_result"
    }
   ],
   "source": [
    "model.history.history.keys()"
   ]
  },
  {
   "cell_type": "code",
   "execution_count": 18,
   "metadata": {},
   "outputs": [
    {
     "data": {
      "text/plain": [
       "[<matplotlib.lines.Line2D at 0x26fb5f10580>]"
      ]
     },
     "execution_count": 18,
     "metadata": {},
     "output_type": "execute_result"
    },
    {
     "data": {
      "image/png": "[encoded data removed]",
      "text/plain": [
       "<Figure size 640x480 with 1 Axes>"
      ]
     },
     "metadata": {},
     "output_type": "display_data"
    }
   ],
   "source": [
    "loss_per_epoch = model.history.history['loss']\n",
    "plt.plot(range(len(loss_per_epoch)),loss_per_epoch)"
   ]
  },
  {
   "cell_type": "code",
   "execution_count": 19,
   "metadata": {},
   "outputs": [
    {
     "name": "stdout",
     "output_type": "stream",
     "text": [
      "1/1 [==============================] - 1s 539ms/step\n",
      "1/1 [==============================] - 0s 29ms/step\n",
      "1/1 [==============================] - 0s 31ms/step\n",
      "1/1 [==============================] - 0s 29ms/step\n",
      "1/1 [==============================] - 0s 26ms/step\n",
      "1/1 [==============================] - 0s 34ms/step\n",
      "1/1 [==============================] - 0s 40ms/step\n",
      "1/1 [==============================] - 0s 33ms/step\n",
      "1/1 [==============================] - 0s 34ms/step\n",
      "1/1 [==============================] - 0s 27ms/step\n",
      "1/1 [==============================] - 0s 25ms/step\n",
      "1/1 [==============================] - 0s 28ms/step\n"
     ]
    }
   ],
   "source": [
    "pred_list = []\n",
    "\n",
    "batch = scaled_train[-n_input:].reshape((1, n_input, n_features))\n",
    "\n",
    "for i in range(n_input):   \n",
    "    pred_list.append(model.predict(batch)[0]) \n",
    "    batch = np.append(batch[:,1:,:],[[pred_list[i]]],axis=1)"
   ]
  },
  {
   "cell_type": "code",
   "execution_count": 20,
   "metadata": {},
   "outputs": [],
   "source": [
    "df_predict = pd.DataFrame(scaler.inverse_transform(pred_list),\n",
    "                          index=df[-n_input:].index, columns=['Prediction'])\n",
    "\n",
    "df_test = pd.concat([df,df_predict], axis=1)"
   ]
  },
  {
   "cell_type": "code",
   "execution_count": 21,
   "metadata": {},
   "outputs": [
    {
     "name": "stderr",
     "output_type": "stream",
     "text": [
      "No artists with labels found to put in legend.  Note that artists whose label start with an underscore are ignored when legend() is called with no argument.\n"
     ]
    },
    {
     "data": {
      "image/png": "[encoded data removed]",
      "text/plain": [
       "<Figure size 2000x500 with 1 Axes>"
      ]
     },
     "metadata": {},
     "output_type": "display_data"
    }
   ],
   "source": [
    "plt.figure(figsize=(20, 5))\n",
    "plt.plot(df_test.index, df_test['AirPassengers'])\n",
    "plt.plot(df_test.index, df_test['Prediction'], color='r')\n",
    "plt.legend(loc='best', fontsize='xx-large')\n",
    "plt.xticks(fontsize=18)\n",
    "plt.yticks(fontsize=16)\n",
    "plt.show()"
   ]
  },
  {
   "cell_type": "code",
   "execution_count": 22,
   "metadata": {},
   "outputs": [
    {
     "name": "stdout",
     "output_type": "stream",
     "text": [
      "rmse:  [36.97848792]\n"
     ]
    }
   ],
   "source": [
    "pred_actual_rmse = rmse(df_test.iloc[-n_input:, [0]], df_test.iloc[-n_input:, [1]])\n",
    "print(\"rmse: \", pred_actual_rmse)"
   ]
  },
  {
   "cell_type": "code",
   "execution_count": 23,
   "metadata": {},
   "outputs": [],
   "source": [
    "train = df"
   ]
  },
  {
   "cell_type": "code",
   "execution_count": 24,
   "metadata": {},
   "outputs": [],
   "source": [
    "scaler.fit(train)\n",
    "train = scaler.transform(train)"
   ]
  },
  {
   "cell_type": "code",
   "execution_count": 25,
   "metadata": {},
   "outputs": [],
   "source": [
    "n_input = 12\n",
    "n_features = 1\n",
    "generator = TimeseriesGenerator(train, train, length=n_input, batch_size=6)"
   ]
  },
  {
   "cell_type": "code",
   "execution_count": 26,
   "metadata": {},
   "outputs": [
    {
     "name": "stdout",
     "output_type": "stream",
     "text": [
      "Epoch 1/90\n",
      "22/22 [==============================] - 0s 18ms/step - loss: 0.0021 - accuracy: 0.0076\n",
      "Epoch 2/90\n",
      "22/22 [==============================] - 0s 20ms/step - loss: 0.0015 - accuracy: 0.0076\n",
      "Epoch 3/90\n",
      "22/22 [==============================] - 0s 21ms/step - loss: 0.0012 - accuracy: 0.0076\n",
      "Epoch 4/90\n",
      "22/22 [==============================] - 0s 18ms/step - loss: 0.0012 - accuracy: 0.0076 \n",
      "Epoch 5/90\n",
      "22/22 [==============================] - 0s 18ms/step - loss: 0.0011 - accuracy: 0.0076\n",
      "Epoch 6/90\n",
      "22/22 [==============================] - 0s 18ms/step - loss: 0.0013 - accuracy: 0.0076\n",
      "Epoch 7/90\n",
      "22/22 [==============================] - 0s 20ms/step - loss: 0.0011 - accuracy: 0.0076\n",
      "Epoch 8/90\n",
      "22/22 [==============================] - 0s 19ms/step - loss: 0.0011 - accuracy: 0.0076\n",
      "Epoch 9/90\n",
      "22/22 [==============================] - 0s 20ms/step - loss: 0.0014 - accuracy: 0.0076\n",
      "Epoch 10/90\n",
      "22/22 [==============================] - 1s 25ms/step - loss: 0.0012 - accuracy: 0.0076\n",
      "Epoch 11/90\n",
      "22/22 [==============================] - 1s 26ms/step - loss: 0.0019 - accuracy: 0.0076\n",
      "Epoch 12/90\n",
      "22/22 [==============================] - 1s 22ms/step - loss: 0.0014 - accuracy: 0.0076\n",
      "Epoch 13/90\n",
      "22/22 [==============================] - 0s 21ms/step - loss: 0.0011 - accuracy: 0.0076\n",
      "Epoch 14/90\n",
      "22/22 [==============================] - 0s 20ms/step - loss: 0.0013 - accuracy: 0.0076\n",
      "Epoch 15/90\n",
      "22/22 [==============================] - 0s 21ms/step - loss: 0.0012 - accuracy: 0.0076\n",
      "Epoch 16/90\n",
      "22/22 [==============================] - 1s 22ms/step - loss: 0.0010 - accuracy: 0.0076\n",
      "Epoch 17/90\n",
      "22/22 [==============================] - 0s 19ms/step - loss: 0.0010 - accuracy: 0.0076\n",
      "Epoch 18/90\n",
      "22/22 [==============================] - 0s 20ms/step - loss: 0.0010 - accuracy: 0.0076\n",
      "Epoch 19/90\n",
      "22/22 [==============================] - 0s 21ms/step - loss: 0.0011 - accuracy: 0.0076\n",
      "Epoch 20/90\n",
      "22/22 [==============================] - 1s 23ms/step - loss: 0.0012 - accuracy: 0.0076\n",
      "Epoch 21/90\n",
      "22/22 [==============================] - 1s 25ms/step - loss: 0.0011 - accuracy: 0.0076\n",
      "Epoch 22/90\n",
      "22/22 [==============================] - 0s 21ms/step - loss: 9.7476e-04 - accuracy: 0.0076\n",
      "Epoch 23/90\n",
      "22/22 [==============================] - 0s 21ms/step - loss: 0.0014 - accuracy: 0.0076\n",
      "Epoch 24/90\n",
      "22/22 [==============================] - 0s 21ms/step - loss: 0.0015 - accuracy: 0.0076\n",
      "Epoch 25/90\n",
      "22/22 [==============================] - 0s 20ms/step - loss: 9.2416e-04 - accuracy: 0.0076\n",
      "Epoch 26/90\n",
      "22/22 [==============================] - 0s 20ms/step - loss: 0.0011 - accuracy: 0.0076\n",
      "Epoch 27/90\n",
      "22/22 [==============================] - 0s 19ms/step - loss: 0.0016 - accuracy: 0.0076\n",
      "Epoch 28/90\n",
      "22/22 [==============================] - 0s 21ms/step - loss: 0.0011 - accuracy: 0.0076\n",
      "Epoch 29/90\n",
      "22/22 [==============================] - 0s 19ms/step - loss: 9.9467e-04 - accuracy: 0.0076\n",
      "Epoch 30/90\n",
      "22/22 [==============================] - 0s 18ms/step - loss: 9.7927e-04 - accuracy: 0.0076\n",
      "Epoch 31/90\n",
      "22/22 [==============================] - 0s 18ms/step - loss: 0.0015 - accuracy: 0.0076\n",
      "Epoch 32/90\n",
      "22/22 [==============================] - 0s 21ms/step - loss: 0.0011 - accuracy: 0.0076\n",
      "Epoch 33/90\n",
      "22/22 [==============================] - 1s 25ms/step - loss: 0.0011 - accuracy: 0.0076\n",
      "Epoch 34/90\n",
      "22/22 [==============================] - 0s 18ms/step - loss: 9.4197e-04 - accuracy: 0.0076\n",
      "Epoch 35/90\n",
      "22/22 [==============================] - 1s 24ms/step - loss: 0.0010 - accuracy: 0.0076\n",
      "Epoch 36/90\n",
      "22/22 [==============================] - 1s 26ms/step - loss: 0.0012 - accuracy: 0.0076\n",
      "Epoch 37/90\n",
      "22/22 [==============================] - 0s 20ms/step - loss: 0.0014 - accuracy: 0.0076\n",
      "Epoch 38/90\n",
      "22/22 [==============================] - 0s 22ms/step - loss: 0.0010 - accuracy: 0.0076\n",
      "Epoch 39/90\n",
      "22/22 [==============================] - 0s 20ms/step - loss: 0.0012 - accuracy: 0.0076\n",
      "Epoch 40/90\n",
      "22/22 [==============================] - 1s 24ms/step - loss: 9.7190e-04 - accuracy: 0.0076\n",
      "Epoch 41/90\n",
      "22/22 [==============================] - 1s 27ms/step - loss: 0.0013 - accuracy: 0.0076\n",
      "Epoch 42/90\n",
      "22/22 [==============================] - 1s 23ms/step - loss: 0.0022 - accuracy: 0.0076\n",
      "Epoch 43/90\n",
      "22/22 [==============================] - 1s 28ms/step - loss: 0.0014 - accuracy: 0.0076\n",
      "Epoch 44/90\n",
      "22/22 [==============================] - 1s 23ms/step - loss: 0.0013 - accuracy: 0.0076\n",
      "Epoch 45/90\n",
      "22/22 [==============================] - 1s 22ms/step - loss: 0.0013 - accuracy: 0.0076\n",
      "Epoch 46/90\n",
      "22/22 [==============================] - 1s 23ms/step - loss: 8.6003e-04 - accuracy: 0.0076\n",
      "Epoch 47/90\n",
      "22/22 [==============================] - 1s 23ms/step - loss: 9.5661e-04 - accuracy: 0.0076\n",
      "Epoch 48/90\n",
      "22/22 [==============================] - 1s 22ms/step - loss: 0.0011 - accuracy: 0.0076\n",
      "Epoch 49/90\n",
      "22/22 [==============================] - 0s 20ms/step - loss: 9.1251e-04 - accuracy: 0.0076\n",
      "Epoch 50/90\n",
      "22/22 [==============================] - 0s 19ms/step - loss: 8.9942e-04 - accuracy: 0.0076\n",
      "Epoch 51/90\n",
      "22/22 [==============================] - 0s 19ms/step - loss: 9.3896e-04 - accuracy: 0.0076\n",
      "Epoch 52/90\n",
      "22/22 [==============================] - 0s 20ms/step - loss: 9.9829e-04 - accuracy: 0.0076\n",
      "Epoch 53/90\n",
      "22/22 [==============================] - 0s 19ms/step - loss: 0.0010 - accuracy: 0.0076\n",
      "Epoch 54/90\n",
      "22/22 [==============================] - 0s 18ms/step - loss: 0.0013 - accuracy: 0.0076\n",
      "Epoch 55/90\n",
      "22/22 [==============================] - 0s 17ms/step - loss: 0.0010 - accuracy: 0.0076\n",
      "Epoch 56/90\n",
      "22/22 [==============================] - 0s 18ms/step - loss: 0.0013 - accuracy: 0.0076\n",
      "Epoch 57/90\n",
      "22/22 [==============================] - 0s 19ms/step - loss: 0.0010 - accuracy: 0.0076\n",
      "Epoch 58/90\n",
      "22/22 [==============================] - 0s 19ms/step - loss: 0.0014 - accuracy: 0.0076\n",
      "Epoch 59/90\n",
      "22/22 [==============================] - 0s 19ms/step - loss: 0.0017 - accuracy: 0.0076\n",
      "Epoch 60/90\n",
      "22/22 [==============================] - 0s 20ms/step - loss: 0.0014 - accuracy: 0.0076\n",
      "Epoch 61/90\n",
      "22/22 [==============================] - 0s 18ms/step - loss: 0.0012 - accuracy: 0.0076\n",
      "Epoch 62/90\n",
      "22/22 [==============================] - 0s 19ms/step - loss: 0.0012 - accuracy: 0.0076\n",
      "Epoch 63/90\n",
      "22/22 [==============================] - 0s 18ms/step - loss: 0.0014 - accuracy: 0.0076\n",
      "Epoch 64/90\n",
      "22/22 [==============================] - 0s 17ms/step - loss: 0.0017 - accuracy: 0.0076\n",
      "Epoch 65/90\n",
      "22/22 [==============================] - 0s 18ms/step - loss: 0.0012 - accuracy: 0.0076\n",
      "Epoch 66/90\n",
      "22/22 [==============================] - 0s 18ms/step - loss: 0.0015 - accuracy: 0.0076\n",
      "Epoch 67/90\n",
      "22/22 [==============================] - 0s 19ms/step - loss: 0.0015 - accuracy: 0.0076\n",
      "Epoch 68/90\n",
      "22/22 [==============================] - 0s 19ms/step - loss: 0.0012 - accuracy: 0.0076\n",
      "Epoch 69/90\n",
      "22/22 [==============================] - 0s 18ms/step - loss: 9.6190e-04 - accuracy: 0.0076\n",
      "Epoch 70/90\n",
      "22/22 [==============================] - 0s 18ms/step - loss: 0.0013 - accuracy: 0.0076\n",
      "Epoch 71/90\n",
      "22/22 [==============================] - 0s 19ms/step - loss: 9.7891e-04 - accuracy: 0.0076\n",
      "Epoch 72/90\n",
      "22/22 [==============================] - 0s 20ms/step - loss: 0.0012 - accuracy: 0.0076\n",
      "Epoch 73/90\n",
      "22/22 [==============================] - 0s 18ms/step - loss: 0.0011 - accuracy: 0.0076\n",
      "Epoch 74/90\n",
      "22/22 [==============================] - 0s 20ms/step - loss: 0.0011 - accuracy: 0.0076\n",
      "Epoch 75/90\n",
      "22/22 [==============================] - 0s 21ms/step - loss: 9.5400e-04 - accuracy: 0.0076\n",
      "Epoch 76/90\n",
      "22/22 [==============================] - 0s 21ms/step - loss: 0.0010 - accuracy: 0.0076\n",
      "Epoch 77/90\n",
      "22/22 [==============================] - 1s 22ms/step - loss: 0.0010 - accuracy: 0.0076\n",
      "Epoch 78/90\n",
      "22/22 [==============================] - 0s 18ms/step - loss: 0.0011 - accuracy: 0.0076\n",
      "Epoch 79/90\n",
      "22/22 [==============================] - 0s 19ms/step - loss: 0.0012 - accuracy: 0.0076\n",
      "Epoch 80/90\n",
      "22/22 [==============================] - 0s 20ms/step - loss: 0.0010 - accuracy: 0.0076\n",
      "Epoch 81/90\n",
      "22/22 [==============================] - 1s 22ms/step - loss: 0.0010 - accuracy: 0.0076\n",
      "Epoch 82/90\n",
      "22/22 [==============================] - 0s 19ms/step - loss: 0.0014 - accuracy: 0.0076\n",
      "Epoch 83/90\n",
      "22/22 [==============================] - 0s 20ms/step - loss: 0.0017 - accuracy: 0.0076\n",
      "Epoch 84/90\n",
      "22/22 [==============================] - 0s 18ms/step - loss: 0.0012 - accuracy: 0.0076\n",
      "Epoch 85/90\n",
      "22/22 [==============================] - 0s 19ms/step - loss: 0.0010 - accuracy: 0.0076\n",
      "Epoch 86/90\n",
      "22/22 [==============================] - 0s 21ms/step - loss: 0.0013 - accuracy: 0.0076\n",
      "Epoch 87/90\n",
      "22/22 [==============================] - 0s 18ms/step - loss: 0.0011 - accuracy: 0.0076\n",
      "Epoch 88/90\n",
      "22/22 [==============================] - 0s 18ms/step - loss: 0.0010 - accuracy: 0.0076\n",
      "Epoch 89/90\n",
      "22/22 [==============================] - 0s 17ms/step - loss: 9.3769e-04 - accuracy: 0.0076\n",
      "Epoch 90/90\n",
      "22/22 [==============================] - 0s 19ms/step - loss: 9.6676e-04 - accuracy: 0.0076\n"
     ]
    },
    {
     "data": {
      "text/plain": [
       "<keras.callbacks.History at 0x26fb81b4f10>"
      ]
     },
     "execution_count": 26,
     "metadata": {},
     "output_type": "execute_result"
    }
   ],
   "source": [
    "model.fit_generator(generator,epochs=90)"
   ]
  },
  {
   "cell_type": "code",
   "execution_count": 27,
   "metadata": {},
   "outputs": [
    {
     "name": "stdout",
     "output_type": "stream",
     "text": [
      "1/1 [==============================] - 0s 35ms/step\n",
      "1/1 [==============================] - 0s 42ms/step\n",
      "1/1 [==============================] - 0s 54ms/step\n",
      "1/1 [==============================] - 0s 41ms/step\n",
      "1/1 [==============================] - 0s 36ms/step\n",
      "1/1 [==============================] - 0s 34ms/step\n",
      "1/1 [==============================] - 0s 37ms/step\n",
      "1/1 [==============================] - 0s 29ms/step\n",
      "1/1 [==============================] - 0s 31ms/step\n",
      "1/1 [==============================] - 0s 40ms/step\n",
      "1/1 [==============================] - 0s 33ms/step\n",
      "1/1 [==============================] - 0s 33ms/step\n"
     ]
    }
   ],
   "source": [
    "pred_list = []\n",
    "\n",
    "batch = train[-n_input:].reshape((1, n_input, n_features))\n",
    "\n",
    "for i in range(n_input):   \n",
    " # get prediction 1 time stamp ahead ([0] is for grabbing just the number instead of [array])    \n",
    "    pred_list.append(model.predict(batch)[0]) \n",
    "# update batch to now include prediction and drop first value    \n",
    "    batch = np.append(batch[:,1:,:],[[pred_list[i]]],axis=1)"
   ]
  },
  {
   "cell_type": "code",
   "execution_count": 28,
   "metadata": {},
   "outputs": [],
   "source": [
    "from pandas.tseries.offsets import DateOffset\n",
    "add_dates = [df.index[-1] + DateOffset(months=x) for x in range(0,13) ]\n",
    "future_dates = pd.DataFrame(index=add_dates[1:],columns=df.columns)"
   ]
  },
  {
   "cell_type": "code",
   "execution_count": 29,
   "metadata": {},
   "outputs": [],
   "source": [
    "df_predict = pd.DataFrame(scaler.inverse_transform(pred_list),\n",
    "                          index=future_dates[-n_input:].index, columns=['Prediction'])\n",
    "\n",
    "df_proj = pd.concat([df,df_predict], axis=1)"
   ]
  },
  {
   "cell_type": "code",
   "execution_count": 30,
   "metadata": {},
   "outputs": [
    {
     "data": {
      "text/plain": [
       "[array([0.6713165], dtype=float32),\n",
       " array([0.625904], dtype=float32),\n",
       " array([0.6762163], dtype=float32),\n",
       " array([0.75483143], dtype=float32),\n",
       " array([0.80548894], dtype=float32),\n",
       " array([0.98114735], dtype=float32),\n",
       " array([1.1249995], dtype=float32),\n",
       " array([1.0656964], dtype=float32),\n",
       " array([0.861195], dtype=float32),\n",
       " array([0.7602193], dtype=float32),\n",
       " array([0.6262777], dtype=float32),\n",
       " array([0.7027864], dtype=float32)]"
      ]
     },
     "execution_count": 30,
     "metadata": {},
     "output_type": "execute_result"
    }
   ],
   "source": [
    "pred_list"
   ]
  },
  {
   "cell_type": "code",
   "execution_count": 31,
   "metadata": {},
   "outputs": [
    {
     "data": {
      "text/plain": [
       "array([[0.68791209],\n",
       "       [0.63076923],\n",
       "       [0.69230769],\n",
       "       [0.78461538],\n",
       "       [0.80879121],\n",
       "       [0.94725275],\n",
       "       [1.13846154],\n",
       "       [1.1032967 ],\n",
       "       [0.88791209],\n",
       "       [0.78461538],\n",
       "       [0.62857143],\n",
       "       [0.72087912]])"
      ]
     },
     "execution_count": 31,
     "metadata": {},
     "output_type": "execute_result"
    }
   ],
   "source": [
    "scaled_test"
   ]
  },
  {
   "cell_type": "markdown",
   "metadata": {},
   "source": [
    "## Inverse Transformations and Compare"
   ]
  },
  {
   "cell_type": "code",
   "execution_count": 32,
   "metadata": {},
   "outputs": [],
   "source": [
    "true_predictions = scaler.inverse_transform(pred_list)"
   ]
  },
  {
   "cell_type": "code",
   "execution_count": 33,
   "metadata": {},
   "outputs": [
    {
     "data": {
      "text/plain": [
       "array([[451.74194932],\n",
       "       [428.21828425],\n",
       "       [454.28004563],\n",
       "       [495.00268245],\n",
       "       [521.24327302],\n",
       "       [612.23432672],\n",
       "       [686.749753  ],\n",
       "       [656.0307138 ],\n",
       "       [550.09902442],\n",
       "       [497.79358494],\n",
       "       [428.41184092],\n",
       "       [468.04334795]])"
      ]
     },
     "execution_count": 33,
     "metadata": {},
     "output_type": "execute_result"
    }
   ],
   "source": [
    "true_predictions"
   ]
  },
  {
   "cell_type": "code",
   "execution_count": 34,
   "metadata": {},
   "outputs": [
    {
     "data": {
      "text/html": [
       "<div>\n",
       "<style scoped>\n",
       "    .dataframe tbody tr th:only-of-type {\n",
       "        vertical-align: middle;\n",
       "    }\n",
       "\n",
       "    .dataframe tbody tr th {\n",
       "        vertical-align: top;\n",
       "    }\n",
       "\n",
       "    .dataframe thead th {\n",
       "        text-align: right;\n",
       "    }\n",
       "</style>\n",
       "<table border=\"1\" class=\"dataframe\">\n",
       "  <thead>\n",
       "    <tr style=\"text-align: right;\">\n",
       "      <th></th>\n",
       "      <th>AirPassengers</th>\n",
       "    </tr>\n",
       "    <tr>\n",
       "      <th>Month</th>\n",
       "      <th></th>\n",
       "    </tr>\n",
       "  </thead>\n",
       "  <tbody>\n",
       "    <tr>\n",
       "      <th>1960-01-01</th>\n",
       "      <td>417</td>\n",
       "    </tr>\n",
       "    <tr>\n",
       "      <th>1960-02-01</th>\n",
       "      <td>391</td>\n",
       "    </tr>\n",
       "    <tr>\n",
       "      <th>1960-03-01</th>\n",
       "      <td>419</td>\n",
       "    </tr>\n",
       "    <tr>\n",
       "      <th>1960-04-01</th>\n",
       "      <td>461</td>\n",
       "    </tr>\n",
       "    <tr>\n",
       "      <th>1960-05-01</th>\n",
       "      <td>472</td>\n",
       "    </tr>\n",
       "    <tr>\n",
       "      <th>1960-06-01</th>\n",
       "      <td>535</td>\n",
       "    </tr>\n",
       "    <tr>\n",
       "      <th>1960-07-01</th>\n",
       "      <td>622</td>\n",
       "    </tr>\n",
       "    <tr>\n",
       "      <th>1960-08-01</th>\n",
       "      <td>606</td>\n",
       "    </tr>\n",
       "    <tr>\n",
       "      <th>1960-09-01</th>\n",
       "      <td>508</td>\n",
       "    </tr>\n",
       "    <tr>\n",
       "      <th>1960-10-01</th>\n",
       "      <td>461</td>\n",
       "    </tr>\n",
       "    <tr>\n",
       "      <th>1960-11-01</th>\n",
       "      <td>390</td>\n",
       "    </tr>\n",
       "    <tr>\n",
       "      <th>1960-12-01</th>\n",
       "      <td>432</td>\n",
       "    </tr>\n",
       "  </tbody>\n",
       "</table>\n",
       "</div>"
      ],
      "text/plain": [
       "            AirPassengers\n",
       "Month                    \n",
       "1960-01-01            417\n",
       "1960-02-01            391\n",
       "1960-03-01            419\n",
       "1960-04-01            461\n",
       "1960-05-01            472\n",
       "1960-06-01            535\n",
       "1960-07-01            622\n",
       "1960-08-01            606\n",
       "1960-09-01            508\n",
       "1960-10-01            461\n",
       "1960-11-01            390\n",
       "1960-12-01            432"
      ]
     },
     "execution_count": 34,
     "metadata": {},
     "output_type": "execute_result"
    }
   ],
   "source": [
    "test"
   ]
  },
  {
   "cell_type": "code",
   "execution_count": 35,
   "metadata": {},
   "outputs": [],
   "source": [
    "# IGNORE WARNINGS\n",
    "test['Predictions'] = true_predictions"
   ]
  },
  {
   "cell_type": "code",
   "execution_count": 36,
   "metadata": {},
   "outputs": [
    {
     "data": {
      "text/html": [
       "<div>\n",
       "<style scoped>\n",
       "    .dataframe tbody tr th:only-of-type {\n",
       "        vertical-align: middle;\n",
       "    }\n",
       "\n",
       "    .dataframe tbody tr th {\n",
       "        vertical-align: top;\n",
       "    }\n",
       "\n",
       "    .dataframe thead th {\n",
       "        text-align: right;\n",
       "    }\n",
       "</style>\n",
       "<table border=\"1\" class=\"dataframe\">\n",
       "  <thead>\n",
       "    <tr style=\"text-align: right;\">\n",
       "      <th></th>\n",
       "      <th>AirPassengers</th>\n",
       "      <th>Predictions</th>\n",
       "    </tr>\n",
       "    <tr>\n",
       "      <th>Month</th>\n",
       "      <th></th>\n",
       "      <th></th>\n",
       "    </tr>\n",
       "  </thead>\n",
       "  <tbody>\n",
       "    <tr>\n",
       "      <th>1960-01-01</th>\n",
       "      <td>417</td>\n",
       "      <td>451.741949</td>\n",
       "    </tr>\n",
       "    <tr>\n",
       "      <th>1960-02-01</th>\n",
       "      <td>391</td>\n",
       "      <td>428.218284</td>\n",
       "    </tr>\n",
       "    <tr>\n",
       "      <th>1960-03-01</th>\n",
       "      <td>419</td>\n",
       "      <td>454.280046</td>\n",
       "    </tr>\n",
       "    <tr>\n",
       "      <th>1960-04-01</th>\n",
       "      <td>461</td>\n",
       "      <td>495.002682</td>\n",
       "    </tr>\n",
       "    <tr>\n",
       "      <th>1960-05-01</th>\n",
       "      <td>472</td>\n",
       "      <td>521.243273</td>\n",
       "    </tr>\n",
       "    <tr>\n",
       "      <th>1960-06-01</th>\n",
       "      <td>535</td>\n",
       "      <td>612.234327</td>\n",
       "    </tr>\n",
       "    <tr>\n",
       "      <th>1960-07-01</th>\n",
       "      <td>622</td>\n",
       "      <td>686.749753</td>\n",
       "    </tr>\n",
       "    <tr>\n",
       "      <th>1960-08-01</th>\n",
       "      <td>606</td>\n",
       "      <td>656.030714</td>\n",
       "    </tr>\n",
       "    <tr>\n",
       "      <th>1960-09-01</th>\n",
       "      <td>508</td>\n",
       "      <td>550.099024</td>\n",
       "    </tr>\n",
       "    <tr>\n",
       "      <th>1960-10-01</th>\n",
       "      <td>461</td>\n",
       "      <td>497.793585</td>\n",
       "    </tr>\n",
       "    <tr>\n",
       "      <th>1960-11-01</th>\n",
       "      <td>390</td>\n",
       "      <td>428.411841</td>\n",
       "    </tr>\n",
       "    <tr>\n",
       "      <th>1960-12-01</th>\n",
       "      <td>432</td>\n",
       "      <td>468.043348</td>\n",
       "    </tr>\n",
       "  </tbody>\n",
       "</table>\n",
       "</div>"
      ],
      "text/plain": [
       "            AirPassengers  Predictions\n",
       "Month                                 \n",
       "1960-01-01            417   451.741949\n",
       "1960-02-01            391   428.218284\n",
       "1960-03-01            419   454.280046\n",
       "1960-04-01            461   495.002682\n",
       "1960-05-01            472   521.243273\n",
       "1960-06-01            535   612.234327\n",
       "1960-07-01            622   686.749753\n",
       "1960-08-01            606   656.030714\n",
       "1960-09-01            508   550.099024\n",
       "1960-10-01            461   497.793585\n",
       "1960-11-01            390   428.411841\n",
       "1960-12-01            432   468.043348"
      ]
     },
     "execution_count": 36,
     "metadata": {},
     "output_type": "execute_result"
    }
   ],
   "source": [
    "test"
   ]
  },
  {
   "cell_type": "code",
   "execution_count": 37,
   "metadata": {},
   "outputs": [
    {
     "data": {
      "text/plain": [
       "<Axes: xlabel='Month'>"
      ]
     },
     "execution_count": 37,
     "metadata": {},
     "output_type": "execute_result"
    },
    {
     "data": {
      "image/png": "[encoded data removed]",
      "text/plain": [
       "<Figure size 1200x800 with 1 Axes>"
      ]
     },
     "metadata": {},
     "output_type": "display_data"
    }
   ],
   "source": [
    "test.plot(figsize=(12,8))"
   ]
  },
  {
   "cell_type": "code",
   "execution_count": null,
   "metadata": {},
   "outputs": [],
   "source": []
  },
  {
   "cell_type": "code",
   "execution_count": null,
   "metadata": {},
   "outputs": [],
   "source": []
  },
  {
   "cell_type": "code",
   "execution_count": 38,
   "metadata": {},
   "outputs": [
    {
     "name": "stderr",
     "output_type": "stream",
     "text": [
      "No artists with labels found to put in legend.  Note that artists whose label start with an underscore are ignored when legend() is called with no argument.\n"
     ]
    },
    {
     "data": {
      "image/png": "[encoded data removed]",
      "text/plain": [
       "<Figure size 2000x500 with 1 Axes>"
      ]
     },
     "metadata": {},
     "output_type": "display_data"
    }
   ],
   "source": [
    "plt.figure(figsize=(20, 5))\n",
    "plt.plot(df_proj.index, df_proj['AirPassengers'])\n",
    "plt.plot(df_proj.index, df_proj['Prediction'], color='r')\n",
    "plt.legend(loc='best', fontsize='xx-large')\n",
    "plt.xticks(fontsize=18)\n",
    "plt.yticks(fontsize=16)\n",
    "plt.show()"
   ]
  },
  {
   "cell_type": "code",
   "execution_count": 39,
   "metadata": {},
   "outputs": [],
   "source": [
    "## Save Predicted Results"
   ]
  },
  {
   "cell_type": "code",
   "execution_count": 40,
   "metadata": {},
   "outputs": [],
   "source": [
    "#df_proj.to_csv('C:\\\\Users\\\\Benja\\\\OneDrive\\\\Desktop\\\\Data Science Raw Data\\\\12-Month Forecast With LSTM.csv', index = None, header=True)"
   ]
  }
 ],
 "metadata": {
  "kernelspec": {
   "display_name": "Python 3 (ipykernel)",
   "language": "python",
   "name": "python3"
  },
  "language_info": {
   "codemirror_mode": {
    "name": "ipython",
    "version": 3
   },
   "file_extension": ".py",
   "mimetype": "text/x-python",
   "name": "python",
   "nbconvert_exporter": "python",
   "pygments_lexer": "ipython3",
   "version": "3.9.7"
  }
 },
 "nbformat": 4,
 "nbformat_minor": 2
}
